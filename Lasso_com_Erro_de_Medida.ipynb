{
  "nbformat": 4,
  "nbformat_minor": 0,
  "metadata": {
    "colab": {
      "name": "Lasso com Erro de Medida.ipynb",
      "provenance": [],
      "collapsed_sections": [],
      "authorship_tag": "ABX9TyM5rf41w2LzV3j53DC+hFYG",
      "include_colab_link": true
    },
    "kernelspec": {
      "name": "python3",
      "display_name": "Python 3"
    },
    "language_info": {
      "name": "python"
    }
  },
  "cells": [
    {
      "cell_type": "markdown",
      "metadata": {
        "id": "view-in-github",
        "colab_type": "text"
      },
      "source": [
        "<a href=\"https://colab.research.google.com/github/joao-1988/linear_merror_regular/blob/main/Lasso_com_Erro_de_Medida.ipynb\" target=\"_parent\"><img src=\"https://colab.research.google.com/assets/colab-badge.svg\" alt=\"Open In Colab\"/></a>"
      ]
    },
    {
      "cell_type": "markdown",
      "source": [
        "---\n",
        "---\n",
        "\n",
        "<h1><center><b>\n",
        "RELATÓRIO DO ARTIGO \"MEASUREMENT ERROR IN LASSO: IMPACT AND LIKELIHOOD BIAS CORRECTION\"\n",
        "</b></center></h1>\n",
        "\n",
        "**Disciplina:** Inferência Avançada\n",
        "\n",
        "**Aluno:**\n",
        "* João Flávio Andrade Silva\n",
        "\n",
        "**Data de entrega**: 30/06/2022\n",
        "---\n",
        "---"
      ],
      "metadata": {
        "id": "DCz654XGpVd9"
      }
    },
    {
      "cell_type": "markdown",
      "source": [
        "# LASSO COM ERRO DE MEDIDA: IMPACTO E CORREÇÃO DE VIÉS DE PROBABILIDADE\n",
        "\n",
        "**Resumo e Introdução**\n",
        "\n",
        "A regressão com a penalidade de laço é uma ferramenta popular para realizar a redução de dimensão quando o número de covariáveis ​​é grande.\n",
        "O presente estudo aborda o impacto do erro de medição na regressão linear com a penalidade do lasso, tanto analiticamente quanto em experimentos de simulação. Um método simples de correção para erro de medição no lasso é então considerado. No limite de amostra grande, o lasso corrigido produz uma seleção de covariáveis ​​consistente de sinal sob condições muito semelhantes ao lasso com medidas perfeitas, enquanto o lasso não corrigido requer condições muito mais rigorosas na estrutura de covariância dos dados.\n",
        "\n"
      ],
      "metadata": {
        "id": "pG45iMPforcn"
      }
    },
    {
      "cell_type": "markdown",
      "source": [
        "# Regressão Linear\n",
        "\n",
        "* Função de perda $$L(y,f(x))$$\n",
        "\n",
        "  * Utilizando função de perda quadrática, temos\n",
        "  $$L(y,f(x)) = \\frac{1}{n} \\sum_{i=1}^{n} (y_i - f(x_i))^2 $$\n",
        "  * Para função $f(x)$ linear temos $f(x) = \\beta_0 + \\sum_{j=1}^{d} x_j$ e assim\n",
        "  $$L(y,f(x) ) = \\frac{1}{n} \\sum_{i=1}^{n} (y_i - \\beta_0 + \\sum_{j=1}^{d} \\beta_j x_{i,j} )^2 $$\n",
        "\n",
        "* Derivadas parciais da função de perda em relação aos parâmetros de interesse, no caso linear é o $\\beta$\n",
        "\n",
        "  * $ \\frac{\\partial L(y,f(x) )}{\\partial \\beta_0} = \\frac{-2}{n} \\sum_{i=1}^{n} (y_i - \\beta_0) $\n",
        "  * $\\frac{\\partial L(y,f(x) )}{\\partial \\beta_j} = \\frac{-2}{n} \\sum_{i=1}^{n}  (y_i - \\beta_j x_{i,j})\n",
        "x_{i,j}, ∀ j > 0 $\n",
        "\n",
        "* Atualização das estimativas dos parâmetros\n",
        "\n",
        "  * $ \\hat \\beta_0^{k}  = \\hat \\beta_0^{k-1} - \\frac{\\partial L(y,\\hat f(x)^{k-1})}{\\partial \\hat \\beta_0^{k-1}} $\n",
        "  * $ \\hat \\beta_j^{k}  = \\hat \\beta_j^{k-1} - \\frac{\\partial L(y,\\hat f(x)^{k-1})}{\\partial \\hat \\beta_j^{k-1}}\n",
        ", ∀ j > 0 $\n",
        "\n",
        "Perceba que ao se aproximar do valor ótimo as derivadas parciais se aproximam de zero. \n",
        "\n",
        "Para compreender melhor, tomemos um caso bem simples: $\\beta x = \\beta_0$. Dessa forma, temos\n",
        "$$ \\frac{\\partial L(y,f(x) )}{\\partial \\beta_0} = \\frac{-2}{n} \\sum_{i=1}^{n} (y_i - \\beta_0)$$ \n",
        "sabemos que o número de $\\beta_0$ que minimiza a função de perda é o número que a derivada parcial é zero\n",
        "$$\\frac{-2}{n} \\sum_{i=1}^{n} (y_i - \\beta_0) = 0 $$\n",
        "$$ \\beta_0-\\bar y = 0 $$\n",
        "\n",
        "observe que $\\bar y$ é sempre fixo, então se a diferença $\\beta_0-\\bar y$ é positiva, então é intuitivo reduzir o valor de $\\beta_0$ para aproximarmos de zero, e quando a diferença for negativa aumentar o valor de $\\beta_0$.\n",
        "\n",
        "Em $ \\beta_0-\\bar y = 0 $, você deve ter percebido que o $\\beta_0$ ótimo deve ser igual a $\\bar y$, mas isto é devido que no caso de função linear sobre o risco quadrátrico existe solução analítica, entrentanto, o método do gradiente descentende é generalista para funções não lineares e riscos diferente do quadrático - a função deve possuir derivadas parciais de primeira ordem.\n",
        "\n",
        "Gradiente descendente: a idéia é atingir um mínimo local de uma função, mas veja que escolhendo uma função que o mínimo local seja único então este será também mínimo global. Exemplos de funções em que mínimo local também é global são as funções convexas como: funções quadráticas e o inverso da verossimilhança (log-verossimilhança)."
      ],
      "metadata": {
        "id": "fY0stM3MoraD"
      }
    },
    {
      "cell_type": "markdown",
      "source": [
        "# Regressão Lasso\n",
        "\n",
        "\n",
        "* Função de perda $$L(y,f(x))$$\n",
        "\n",
        "  * Lasso: Função Linear sob risco quadrático com penalização norma $\\ell_1$\n",
        "  \n",
        "  $$L(y,f(x) ) = \\frac{1}{2n} \\sum_{i=1}^{n} (y_i - \\beta_0 + \\sum_{j=1}^{d} \\beta_j x_{i,j})^2 + \\lambda \\sum_{j=1}^{d} \\vert \\beta_j \\vert $$\n",
        "\n",
        "* Derivadas parciais da função de perda em relação aos parâmetros de interesse\n",
        "\n",
        "  * $ \\frac{\\partial L(y,f(x) )}{\\partial \\beta_0} = \\frac{-1}{n} \\sum_{i=1}^{n} (y_i - \\beta_0) $\n",
        "\n",
        "  * Se $\\beta_j > 0 $\n",
        "    * $\\frac{\\partial L(y,f(x) )}{\\partial \\beta_j} = \\frac{-1}{n} \\sum_{i=1}^{n}  (y_i - \\beta_j x_{i,j})  \n",
        "x_{i,j} + \\lambda , ∀ j > 0 $\n",
        "\n",
        "  * Se $\\beta_j <= 0 $\n",
        "    * $\\frac{\\partial L(y,f(x) )}{\\partial \\beta_j} = \\frac{-1}{n} \\sum_{i=1}^{n}  (y_i - \\beta_j x_{i,j})  \n",
        "x_{i,j} - \\lambda, ∀ j > 0 $\n",
        "\n",
        "* Atualização das estimativas dos parâmetros\n",
        "\n",
        "  * $ \\hat \\beta_0^{k}  = \\hat \\beta_0^{k-1} - \\frac{\\partial L(y,\\hat f(x)^{k-1})}{\\partial \\hat \\beta_0^{k-1}} $\n",
        "  * $ \\hat \\beta_j^{k}  = \\hat \\beta_j^{k-1} - \\frac{\\partial L(y,\\hat f(x)^{k-1})}{\\partial \\hat \\beta_j^{k-1}}\n",
        ", ∀ j > 0 $\n"
      ],
      "metadata": {
        "id": "34X6MJTDorUb"
      }
    },
    {
      "cell_type": "markdown",
      "source": [
        "# Regressão Lasso com erro de medida nas covariáveis \n",
        "\n"
      ],
      "metadata": {
        "id": "_oAo3ncknDCm"
      }
    },
    {
      "cell_type": "markdown",
      "source": [
        "\n",
        "## Modelo de regressão linear com erro de medida (notação matricial)\n",
        "\n",
        "$$ \\mathbf y = \\mathbf X  \\beta^0 + \\epsilon \\;\\;\\; \\textrm{e} \\;\\;\\; \\mathbf W = \\mathbf X + \\mathbf U $$\n",
        "\n",
        "com observações de $d$ covariáveis e variável resposta $ \\mathbf y \\in \\mathbb R^n$ de $n$ indivíduos. A matriz de covariáveis $\\mathbf X$ não é observada, ao invés observamos medições com ruído $\\mathbf W$. Assumimos a matriz de erros de medida $\\mathbf U \\in \\mathbb R^{n \\times d}$ com distribuição normal nas linhas com média zero e covariância $\\Sigma_{uu}$. Os erros do modelo $\\epsilon = (\\epsilon_1, \\dots, \\epsilon_n)^t$ são i.i.d. normalmente distirbuídos com média zero e variância $\\sigma^2$."
      ],
      "metadata": {
        "id": "7_4AS5icnIhp"
      }
    },
    {
      "cell_type": "markdown",
      "source": [
        "## Modelo Linear Lasso\n",
        "\n",
        "Aqui apresentamos o modelo linear Lasso sem ajuste para o problema de erro de medida, neste caso, este é chamado de *naive approach* (abordagem ingênua). \n",
        "\n",
        "  $$\\hat \\beta(\\lambda) = \\arg \\min_{\\beta} \\frac{1}{n} \\vert\\!\\vert \\mathbf y - \\mathbf W\\beta \\vert\\!\\vert_2^2 + \\lambda \\vert\\!\\vert \\beta \\vert\\!\\vert_1 $$\n",
        "\n",
        "  $$ = \\arg \\min_{\\beta} \\frac{1}{n} \\sum_{i=1}^{n} (y_i - \\beta_0 + \\sum_{j=1}^{d} \\beta_j w_{i,j})^2 + \\lambda \\sum_{j=1}^{d} \\vert \\beta_j \\vert $$\n",
        "\n",
        "em que $\\lambda > 0 $ é um parâmetro de regularização.\n"
      ],
      "metadata": {
        "id": "QQ7HHWtCZwSs"
      }
    },
    {
      "cell_type": "markdown",
      "source": [
        "\n",
        "## Modelo Linear Lasso - Correção para Erro de Medida \n",
        "\n",
        "Aqui consideramos o modelo Lasso corrigido. A correção utilizada é motivada pelo fato da função de perda do *naive* Lasso ser viesada:\n",
        "$$ E[ \\vert\\!\\vert \\mathbf y - \\mathbf W\\beta \\vert\\!\\vert_2^2 \\vert \\mathbf X , \\mathbf y ] = \\vert\\!\\vert \\mathbf y - \\mathbf X \\beta \\vert\\!\\vert_2^2 \\vert + n\\beta^t\\Sigma_{uu}\\beta $$\n",
        "\n",
        "Isto sugere regularização Lasso corrigido (regularized corrected Lasso - RCL),  \n",
        "\n",
        " $$\\hat \\beta_{RCL} = \\arg \\min_{\\beta} \\frac{1}{n} \\vert\\!\\vert \\mathbf y - \\mathbf W\\beta \\vert\\!\\vert_2^2 - \\beta^t\\Sigma_{uu}\\beta + \\lambda \\vert\\!\\vert \\beta \\vert\\!\\vert_1 $$\n",
        "\n",
        "introduzida por Loh and Wainwright (2012). \n"
      ],
      "metadata": {
        "id": "5kq7L5mpu4D8"
      }
    },
    {
      "cell_type": "markdown",
      "source": [
        "\n",
        "### Implementação do algorítmo \n",
        "\n",
        "Nesta implementação do algorítmo de estimação dos parâmetros do modelo Linear Lasso com Correção para Erro de Medida adicionalmente supomos erros de medida independentes e com variância constante, isto é, $\\Sigma_{uu} = \\sigma_u^2Ι_d$.\n",
        "\n",
        "Logo o modelo fica resumido a \n",
        "\n",
        "$$\\hat \\beta_{RCL} = \\arg \\min_{\\beta} \\frac{1}{n} \\vert\\!\\vert \\mathbf y - \\mathbf W\\beta \\vert\\!\\vert_2^2 - \\beta^t\\sigma_u^2Ι_d\\beta + \\lambda \\vert\\!\\vert \\beta \\vert\\!\\vert_1 $$\n",
        "\n",
        "e nossa função de perda pode ser reescrita na forma\n",
        " \n",
        "$$ L(y,f(w) )  = \\frac{1}{n} \\sum_{i=1}^{n} (y_i - \\beta_0 + \\sum_{j=1}^{d} \\beta_j w_{i,j})^2 - \\sigma_u^2 \\sum_{j=1}^{d}  \\beta_j^2 + \\lambda \\sum_{j=1}^{d} \\vert \\beta_j \\vert $$\n",
        "\n",
        "Temos as Derivadas parciais da função de perda em relação aos parâmetros de interesse\n",
        "\n",
        "  * $ \\frac{\\partial L(y,f(w) )}{\\partial \\beta_0} = \\frac{-2}{n} \\sum_{i=1}^{n} (y_i - \\beta_0) $\n",
        "\n",
        "  * Se $\\beta_j > 0 $\n",
        "    * $\\frac{\\partial L(y,f(w) )}{\\partial \\beta_j} = \\frac{-2}{n} \\sum_{i=1}^{n}  (y_i - \\beta_j w_{i,j})  \n",
        "w_{i,j} - 2\\sigma_u^2\\beta_j + \\lambda , ∀ j > 0 $\n",
        "\n",
        "  * Se $\\beta_j <= 0 $\n",
        "    * $\\frac{\\partial L(y,f(w) )}{\\partial \\beta_j} = \\frac{-2}{n} \\sum_{i=1}^{n}  (y_i - \\beta_j w_{i,j})  \n",
        "w_{i,j} - 2\\sigma_u^2\\beta_j - \\lambda , ∀ j > 0 $\n",
        "\n",
        "* Atualização das estimativas dos parâmetros\n",
        "\n",
        "  * $ \\hat \\beta_0^{k}  = \\hat \\beta_0^{k-1} - \\frac{\\partial L(y,\\hat f(x)^{k-1})}{\\partial \\hat \\beta_0^{k-1}} $\n",
        "  * $ \\hat \\beta_j^{k}  = \\hat \\beta_j^{k-1} - \\frac{\\partial L(y,\\hat f(x)^{k-1})}{\\partial \\hat \\beta_j^{k-1}}\n",
        ", ∀ j > 0 $\n",
        "  "
      ],
      "metadata": {
        "id": "GoccyLK4vCdb"
      }
    },
    {
      "cell_type": "markdown",
      "source": [
        "# Regressão Elastic Net\n",
        "\n",
        "\n",
        "* Função de perda $$L(y,f(x))$$\n",
        "\n",
        "  * Lasso: Função Linear sob risco quadrático com penalização norma $\\ell_2$ e $\\ell_1$\n",
        "  \n",
        "  $$L(y,f(x) ) = \\frac{1}{2n} \\sum_{i=1}^{n} (y_i - \\beta_0 + \\sum_{j=1}^{d} \\beta_j x_{i,j})^2 + \\lambda \\left(\\frac{(1-\\alpha)}{2} \\sum_{j=1}^{d}  \\beta_j^2 + \\alpha \\sum_{j=1}^{d} \\vert \\beta_j \\vert \\right) $$\n",
        "\n",
        "* Derivadas parciais da função de perda em relação aos parâmetros de interesse\n",
        "\n",
        "  * $ \\frac{\\partial L(y,f(x) )}{\\partial \\beta_0} = \\frac{-1}{n} \\sum_{i=1}^{n} (y_i - \\beta_0) $\n",
        "\n",
        "  * Se $\\beta_j > 0 $\n",
        "    * $\\frac{\\partial L(y,f(x) )}{\\partial \\beta_j} = \\frac{-1}{n} \\sum_{i=1}^{n}  (y_i - \\beta_j x_{i,j})  \n",
        "x_{i,j} + \\lambda (1 - \\alpha)\\beta_j + \\lambda \\alpha , ∀ j > 0 $\n",
        "\n",
        "  * Se $\\beta_j <= 0 $\n",
        "    * $\\frac{\\partial L(y,f(x) )}{\\partial \\beta_j} = \\frac{-1}{n} \\sum_{i=1}^{n}  (y_i - \\beta_j x_{i,j})  \n",
        "x_{i,j} + \\lambda (1 - \\alpha)\\beta_j - \\lambda \\alpha, ∀ j > 0 $\n",
        "\n",
        "* Atualização das estimativas dos parâmetros\n",
        "\n",
        "  * $ \\hat \\beta_0^{k}  = \\hat \\beta_0^{k-1} - \\frac{\\partial L(y,\\hat f(x)^{k-1})}{\\partial \\hat \\beta_0^{k-1}} $\n",
        "  * $ \\hat \\beta_j^{k}  = \\hat \\beta_j^{k-1} - \\frac{\\partial L(y,\\hat f(x)^{k-1})}{\\partial \\hat \\beta_j^{k-1}}\n",
        ", ∀ j > 0 $\n"
      ],
      "metadata": {
        "id": "gI9bnPN3uoYq"
      }
    },
    {
      "cell_type": "markdown",
      "source": [
        "# Implementações dos algorítmos \n",
        "\n",
        "Para cada um dos modelos descritos anteriormente implementei um algoritmo utilizando linguagem Python (com auxílio apenas do pacote Numpy) e programação orientada objeto, em todos os algorítmos o método de otimização empregado foi o Gradiente Descente.\n",
        "\n",
        "Objetos criados:\n",
        "* LinearRegression(): Modelo de Regressão Linear\n",
        "* Lasso(): Modelo de Regressão Linear Lasso \n",
        "* ElasticNet(): Modelo de Regressão Linear Elastic Net\n",
        "* LassoME(): Modelo de Regressão Linear Lasso com ajuste para Erro de Medida\n",
        "\n",
        "\n"
      ],
      "metadata": {
        "id": "v5OV6WEXu0aa"
      }
    },
    {
      "cell_type": "code",
      "source": [
        "class LinearRegression():\n",
        "  \n",
        "  def __init__(self,intercept=True, max_iter=1000,tol=0.001,learning_rate=0.1,random_state=None):\n",
        "    self.intercept = intercept\n",
        "    self.max_iter = max_iter\n",
        "    self.tol = tol    \n",
        "    self.learning_rate = learning_rate\n",
        "    self.random_state = random_state\n",
        "\n",
        "  def predict(self,X):\n",
        "    return self.intercept_ + X.dot(self.coef_) \n",
        "\n",
        "  def fit(self,X,y):\n",
        "    import numpy as np\n",
        "\n",
        "    np.random.seed(self.random_state)\n",
        "    self.n_, self.d_ = X.shape\n",
        "    self.coef_ = np.random.normal(0,1,self.d_)\n",
        "    self.intercept_ = 0\n",
        "\n",
        "    # gradiente descendente \n",
        "    for i in range(1,self.max_iter+1) : \n",
        "      predictions = self.predict(X)    \n",
        "      d_coef = np.array( [ (-2/self.n_)*(y - predictions).dot(X[:,k]) \n",
        "                      for k in range(self.d_) ])\n",
        "      self.coef_ -= d_coef*self.learning_rate\n",
        "      if self.intercept == True:\n",
        "        d_int = (-2/self.n_)*np.sum(y - predictions)\n",
        "        self.intercept_ -= d_int*self.learning_rate\n",
        "\n",
        "      c_tol = np.max(np.abs(d_coef*self.learning_rate))/np.max(np.abs(self.coef_))\n",
        "      if c_tol <= self.tol:         \n",
        "        self.n_iter_ = i \n",
        "        break\n",
        "    if i == self.max_iter:\n",
        "      print('Máximo de iterações atingido')  \n",
        "    return self    \n",
        "\n",
        "class Lasso():\n",
        "  \n",
        "  def __init__(self,intercept=True,Lambda=1,max_iter=1000,tol=0.001,learning_rate=0.1,random_state=None):\n",
        "    self.intercept = intercept \n",
        "    self.Lambda = Lambda\n",
        "    self.max_iter = max_iter\n",
        "    self.tol = tol    \n",
        "    self.learning_rate = learning_rate\n",
        "    self.random_state = random_state\n",
        "\n",
        "  def predict(self,X):\n",
        "    return self.intercept_ + X.dot(self.coef_) \n",
        "\n",
        "  def fit(self,X,y):\n",
        "    import numpy as np\n",
        "\n",
        "    np.random.seed(self.random_state)\n",
        "    self.n_, self.d_ = X.shape\n",
        "    self.coef_ = np.random.normal(0,1,self.d_)\n",
        "    self.intercept_ = 0\n",
        "\n",
        "    # gradiente descendente \n",
        "    for i in range(1,self.max_iter+1) : \n",
        "      predictions = self.predict(X)    \n",
        "      d_coef = np.array( [ np.where( self.coef_[k] > 0 \n",
        "                          , (-1/self.n_)*(y - predictions).dot(X[:,k]) + self.Lambda  \n",
        "                          , (-1/self.n_)*(y - predictions).dot(X[:,k]) - self.Lambda ) \n",
        "                      for k in range(self.d_) ])\n",
        "      self.coef_ -= d_coef*self.learning_rate\n",
        "      if self.intercept == True:\n",
        "        d_int = (-1/self.n_)*np.sum(y - predictions)\n",
        "        self.intercept_ -= d_int*self.learning_rate\n",
        "\n",
        "      c_tol = np.max(np.abs(d_coef*self.learning_rate))/np.max(np.abs(self.coef_))\n",
        "      if c_tol <= self.tol:         \n",
        "        self.n_iter_ = i \n",
        "        break\n",
        "    if i == self.max_iter:\n",
        "      print('Máximo de iterações atingido')  \n",
        "    return self        \n",
        "\n",
        "class ElasticNet():\n",
        "  \n",
        "  def __init__(self,intercept=True,Lambda=1,alpha=1,max_iter=1000,tol=0.001,learning_rate=0.1,random_state=None):\n",
        "    self.intercept = intercept \n",
        "    self.Lambda = Lambda\n",
        "    self.alpha = alpha    \n",
        "    self.max_iter = max_iter\n",
        "    self.tol = tol    \n",
        "    self.learning_rate = learning_rate\n",
        "    self.random_state = random_state\n",
        "\n",
        "  def predict(self,X):\n",
        "    return self.intercept_ + X.dot(self.coef_) \n",
        "\n",
        "  def fit(self,X,y):\n",
        "    import numpy as np\n",
        "\n",
        "    np.random.seed(self.random_state)\n",
        "    self.n_, self.d_ = X.shape\n",
        "    self.coef_ = np.random.normal(0,1,self.d_)\n",
        "    self.intercept_ = 0\n",
        "\n",
        "    # gradiente descendente \n",
        "    for i in range(1,self.max_iter+1) : \n",
        "      predictions = self.predict(X)    \n",
        "      d_coef = np.array( [ np.where( self.coef_[k] > 0 \n",
        "                          , (-1/self.n_)*(y - predictions).dot(X[:,k]) + self.Lambda*(1-self.alpha)*self.coef_[k] + self.Lambda*self.alpha  \n",
        "                          , (-1/self.n_)*(y - predictions).dot(X[:,k]) + self.Lambda*(1-self.alpha)*self.coef_[k] - self.Lambda*self.alpha ) \n",
        "                      for k in range(self.d_) ])\n",
        "      self.coef_ -= d_coef*self.learning_rate\n",
        "      if self.intercept == True:\n",
        "        d_int = (-1/self.n_)*np.sum(y - predictions)\n",
        "        self.intercept_ -= d_int*self.learning_rate\n",
        "\n",
        "      c_tol = np.max(np.abs(d_coef*self.learning_rate))/np.max(np.abs(self.coef_))\n",
        "      if c_tol <= self.tol:         \n",
        "        self.n_iter_ = i \n",
        "        break\n",
        "    if i == self.max_iter:\n",
        "      print('Máximo de iterações atingido')  \n",
        "    return self        \n",
        "\n",
        "# class LassoME():\n",
        "  \n",
        "#   def __init__(self,intercept=True,Lambda=1,sigma=1,max_iter=1000,tol=0.001,learning_rate=0.1,random_state=None):\n",
        "#     self.intercept = intercept \n",
        "#     self.Lambda = Lambda\n",
        "#     self.sigma = sigma    \n",
        "#     self.max_iter = max_iter\n",
        "#     self.tol = tol    \n",
        "#     self.learning_rate = learning_rate\n",
        "#     self.random_state = random_state\n",
        "\n",
        "#   def predict(self,X):\n",
        "#     return self.intercept_ + X.dot(self.coef_) \n",
        "\n",
        "#   def fit(self,X,y):\n",
        "#     import numpy as np\n",
        "\n",
        "#     np.random.seed(self.random_state)\n",
        "#     self.n_, self.d_ = X.shape\n",
        "#     self.coef_ = np.random.normal(0,1,self.d_)\n",
        "#     self.intercept_ = 0\n",
        "\n",
        "#     # gradiente descendente \n",
        "#     for i in range(1,self.max_iter+1):\n",
        "#       predictions = self.predict(X)    \n",
        "#       # d_int = (-1/self.n_)*np.sum(y - predictions)\n",
        "#       # d_coef = np.array( [ np.where( self.coef_[k] > 0 \n",
        "#       #                     , (-1/self.n_)*(y - predictions).dot(X[:,k]) -(self.sigma)*self.coef_[k] + self.Lambda  \n",
        "#       #                     , (-1/self.n_)*(y - predictions).dot(X[:,k]) -(self.sigma)*self.coef_[k] - self.Lambda ) \n",
        "#       #                 for k in range(self.d_) ])\n",
        "#       d_coef = np.array( [ np.where( self.coef_[k] > 0 \n",
        "#                           , (-2/self.n_)*(y - predictions).dot(X[:,k]) -2*(self.sigma)*self.coef_[k] + self.Lambda  \n",
        "#                           , (-2/self.n_)*(y - predictions).dot(X[:,k]) -2*(self.sigma)*self.coef_[k] - self.Lambda ) \n",
        "#                       for k in range(self.d_) ])\n",
        "#       self.coef_ -= d_coef*self.learning_rate\n",
        "#       if self.intercept == True:\n",
        "#         d_int = (-2/self.n_)*np.sum(y - predictions)\n",
        "#         self.intercept_ -= d_int*self.learning_rate\n",
        "\n",
        "#       c_tol = np.max(np.abs(d_coef*self.learning_rate))/np.max(np.abs(self.coef_))\n",
        "#       if c_tol <= self.tol:         \n",
        "#         self.n_iter_ = i \n",
        "#         break\n",
        "#     if i == self.max_iter:\n",
        "#       print('Máximo de iterações atingido')  \n",
        "#     return self        \n",
        "\n",
        "class LassoME():\n",
        "  \n",
        "  def __init__(self,intercept=True,Lambda=1,sigma=1,max_iter=1000,tol=0.001,learning_rate=0.1,random_state=None):\n",
        "    self.intercept = intercept \n",
        "    self.Lambda = Lambda\n",
        "    self.sigma = sigma    \n",
        "    self.max_iter = max_iter\n",
        "    self.tol = tol    \n",
        "    self.learning_rate = learning_rate\n",
        "    self.random_state = random_state\n",
        "\n",
        "  def predict(self,X):\n",
        "    return self.intercept_ + X.dot(self.coef_) \n",
        "\n",
        "  def fit(self,X,y):\n",
        "    import numpy as np\n",
        "\n",
        "    np.random.seed(self.random_state)\n",
        "    self.n_, self.d_ = X.shape\n",
        "    self.coef_ = np.random.normal(0,1,self.d_)\n",
        "    self.intercept_ = 0\n",
        "\n",
        "    xx = np.matmul( np.matrix.transpose(X), X)/n\n",
        "    xy = np.matmul( np.matrix.transpose(X), y)/n\n",
        "\n",
        "    # gradiente descendente \n",
        "    for i in range(1,self.max_iter+1):\n",
        "      predictions = self.predict(X)    \n",
        "      d_coef_aux = self.coef_.dot(xx - np.diag( np.repeat(self.sigma, self.d_) ) ) - xy\n",
        "      d_coef = np.array( [ np.where( self.coef_[k] > 0 \n",
        "                          , d_coef_aux[k] + self.Lambda  \n",
        "                          , d_coef_aux[k] - self.Lambda ) \n",
        "                      for k in range(self.d_) ])\n",
        "      self.coef_ -= d_coef*self.learning_rate\n",
        "\n",
        "      c_tol = np.max(np.abs(d_coef*self.learning_rate))/np.max(np.abs(self.coef_))\n",
        "      if c_tol <= self.tol:         \n",
        "        self.n_iter_ = i \n",
        "        break\n",
        "    if i == self.max_iter:\n",
        "      print('Máximo de iterações atingido')  \n",
        "    return self            "
      ],
      "metadata": {
        "id": "6J4aYsxxQ5Sx"
      },
      "execution_count": 1,
      "outputs": []
    },
    {
      "cell_type": "markdown",
      "source": [
        "# Experimento de Simulação\n",
        "\n",
        "Nesta seção tentei replicar parcialmente o experimento realizado no item *6.1 Linear regression* do artigo estudado [1], para $s_0 = 5$ e $\\sigma_U^2=0.2$, utilizando os algoritmos aqui implementados."
      ],
      "metadata": {
        "id": "4VdsPJk82jIo"
      }
    },
    {
      "cell_type": "code",
      "source": [
        "import pandas as pd\n",
        "import numpy as np\n",
        "from sklearn.model_selection import KFold\n",
        "\n",
        "np.random.seed(1)\n",
        "\n",
        "n = 100\n",
        "d = 500 \n",
        "s0 = 5 \n",
        "\n",
        "B0 = np.concatenate( (np.random.normal(0,2**2,s0), np.zeros(d-s0) ), axis=None )\n",
        "e = np.random.normal(0,0.01,n)\n",
        "X = np.random.normal(0,1,n*d).reshape(n,d)\n",
        "y = X.dot(B0) + e\n",
        "U = np.random.normal(0,0.2,n*d).reshape(n,d)\n",
        "W = X + U"
      ],
      "metadata": {
        "id": "6SH8TbmU1H_E"
      },
      "execution_count": 2,
      "outputs": []
    },
    {
      "cell_type": "markdown",
      "source": [
        "## Tuning dos hiperparâmetros"
      ],
      "metadata": {
        "id": "DtJz2MpeD82g"
      }
    },
    {
      "cell_type": "code",
      "source": [
        "lasso_dict = {\"Lambda\":[],\"EQM\":[]}\n",
        "lasso_me_dict = {\"Lambda\":[],\"EQM\":[]}\n",
        "\n",
        "for Lambda in np.arange(0.05,0.3,0.05):\n",
        "  lasso_err = []\n",
        "  lasso_me_err = []\n",
        "  kf = KFold(n_splits=5)\n",
        "  for train_index, test_index in kf.split(W):\n",
        "    W_train, W_test = W[train_index], W[test_index]\n",
        "    y_train, y_test = y[train_index], y[test_index]\n",
        "    \n",
        "    lasso = Lasso(intercept = False, Lambda=Lambda,max_iter=1_000,learning_rate=0.01,random_state=1).fit(W_train,y_train)\n",
        "    lasso_me = LassoME(intercept = False, Lambda=Lambda, sigma = 0.2,max_iter=1000,learning_rate=0.01,random_state=1).fit(W_train,y_train)    \n",
        "    \n",
        "    lasso_err.append(np.mean((lasso.predict(W_test) - y_test)**2))\n",
        "    lasso_me_err.append(np.mean((lasso_me.predict(W_test) - y_test)**2))\n",
        "\n",
        "  lasso_dict[\"Lambda\"].append(Lambda)\n",
        "  lasso_dict[\"EQM\"].append( np.mean(lasso_err) )\n",
        "  lasso_me_dict[\"Lambda\"].append(Lambda)\n",
        "  lasso_me_dict[\"EQM\"].append( np.mean(lasso_me_err) )"
      ],
      "metadata": {
        "colab": {
          "base_uri": "https://localhost:8080/"
        },
        "id": "BjdjGYEJ8-YG",
        "outputId": "cc5142eb-fe56-4f8f-bd4b-f436f04b8046"
      },
      "execution_count": 3,
      "outputs": [
        {
          "output_type": "stream",
          "name": "stdout",
          "text": [
            "Máximo de iterações atingido\n",
            "Máximo de iterações atingido\n",
            "Máximo de iterações atingido\n",
            "Máximo de iterações atingido\n",
            "Máximo de iterações atingido\n",
            "Máximo de iterações atingido\n",
            "Máximo de iterações atingido\n",
            "Máximo de iterações atingido\n",
            "Máximo de iterações atingido\n",
            "Máximo de iterações atingido\n",
            "Máximo de iterações atingido\n",
            "Máximo de iterações atingido\n",
            "Máximo de iterações atingido\n",
            "Máximo de iterações atingido\n",
            "Máximo de iterações atingido\n",
            "Máximo de iterações atingido\n",
            "Máximo de iterações atingido\n",
            "Máximo de iterações atingido\n",
            "Máximo de iterações atingido\n",
            "Máximo de iterações atingido\n",
            "Máximo de iterações atingido\n",
            "Máximo de iterações atingido\n",
            "Máximo de iterações atingido\n",
            "Máximo de iterações atingido\n",
            "Máximo de iterações atingido\n",
            "Máximo de iterações atingido\n",
            "Máximo de iterações atingido\n",
            "Máximo de iterações atingido\n",
            "Máximo de iterações atingido\n",
            "Máximo de iterações atingido\n",
            "Máximo de iterações atingido\n",
            "Máximo de iterações atingido\n",
            "Máximo de iterações atingido\n",
            "Máximo de iterações atingido\n",
            "Máximo de iterações atingido\n",
            "Máximo de iterações atingido\n"
          ]
        }
      ]
    },
    {
      "cell_type": "code",
      "source": [
        "elastic_dict = {\"alpha\":[],\"Lambda\":[],\"EQM\":[]}\n",
        "\n",
        "for alpha in np.arange(0.05,0.95,0.2):\n",
        "  for Lambda in np.arange(0.05,0.3,0.05):\n",
        "    elastic_err = []\n",
        "    kf = KFold(n_splits=5)\n",
        "    for train_index, test_index in kf.split(W):\n",
        "      W_train, W_test = W[train_index], W[test_index]\n",
        "      y_train, y_test = y[train_index], y[test_index]\n",
        "      \n",
        "      elastic = ElasticNet(intercept = False, Lambda=Lambda, alpha = alpha,random_state=1).fit(W_train,y_train)\n",
        "\n",
        "      elastic_err.append(np.mean((elastic.predict(W_test) - y_test)**2))\n",
        "    \n",
        "    elastic_dict[\"alpha\"].append(alpha)\n",
        "    elastic_dict[\"Lambda\"].append(Lambda)\n",
        "    elastic_dict[\"EQM\"].append( np.mean(elastic_err) )"
      ],
      "metadata": {
        "colab": {
          "base_uri": "https://localhost:8080/"
        },
        "id": "vGKHKwJK9DlI",
        "outputId": "20d51458-13ea-484c-bc67-4bf9c329757b"
      },
      "execution_count": 4,
      "outputs": [
        {
          "output_type": "stream",
          "name": "stdout",
          "text": [
            "Máximo de iterações atingido\n",
            "Máximo de iterações atingido\n",
            "Máximo de iterações atingido\n",
            "Máximo de iterações atingido\n",
            "Máximo de iterações atingido\n",
            "Máximo de iterações atingido\n",
            "Máximo de iterações atingido\n",
            "Máximo de iterações atingido\n",
            "Máximo de iterações atingido\n",
            "Máximo de iterações atingido\n",
            "Máximo de iterações atingido\n",
            "Máximo de iterações atingido\n",
            "Máximo de iterações atingido\n",
            "Máximo de iterações atingido\n",
            "Máximo de iterações atingido\n",
            "Máximo de iterações atingido\n",
            "Máximo de iterações atingido\n",
            "Máximo de iterações atingido\n",
            "Máximo de iterações atingido\n",
            "Máximo de iterações atingido\n",
            "Máximo de iterações atingido\n",
            "Máximo de iterações atingido\n",
            "Máximo de iterações atingido\n",
            "Máximo de iterações atingido\n",
            "Máximo de iterações atingido\n",
            "Máximo de iterações atingido\n",
            "Máximo de iterações atingido\n",
            "Máximo de iterações atingido\n",
            "Máximo de iterações atingido\n",
            "Máximo de iterações atingido\n",
            "Máximo de iterações atingido\n",
            "Máximo de iterações atingido\n",
            "Máximo de iterações atingido\n",
            "Máximo de iterações atingido\n",
            "Máximo de iterações atingido\n",
            "Máximo de iterações atingido\n",
            "Máximo de iterações atingido\n",
            "Máximo de iterações atingido\n",
            "Máximo de iterações atingido\n",
            "Máximo de iterações atingido\n",
            "Máximo de iterações atingido\n",
            "Máximo de iterações atingido\n",
            "Máximo de iterações atingido\n",
            "Máximo de iterações atingido\n",
            "Máximo de iterações atingido\n",
            "Máximo de iterações atingido\n",
            "Máximo de iterações atingido\n",
            "Máximo de iterações atingido\n",
            "Máximo de iterações atingido\n",
            "Máximo de iterações atingido\n",
            "Máximo de iterações atingido\n",
            "Máximo de iterações atingido\n",
            "Máximo de iterações atingido\n",
            "Máximo de iterações atingido\n",
            "Máximo de iterações atingido\n",
            "Máximo de iterações atingido\n",
            "Máximo de iterações atingido\n",
            "Máximo de iterações atingido\n",
            "Máximo de iterações atingido\n",
            "Máximo de iterações atingido\n",
            "Máximo de iterações atingido\n",
            "Máximo de iterações atingido\n",
            "Máximo de iterações atingido\n",
            "Máximo de iterações atingido\n",
            "Máximo de iterações atingido\n",
            "Máximo de iterações atingido\n",
            "Máximo de iterações atingido\n",
            "Máximo de iterações atingido\n",
            "Máximo de iterações atingido\n",
            "Máximo de iterações atingido\n",
            "Máximo de iterações atingido\n",
            "Máximo de iterações atingido\n",
            "Máximo de iterações atingido\n",
            "Máximo de iterações atingido\n",
            "Máximo de iterações atingido\n",
            "Máximo de iterações atingido\n",
            "Máximo de iterações atingido\n",
            "Máximo de iterações atingido\n",
            "Máximo de iterações atingido\n",
            "Máximo de iterações atingido\n",
            "Máximo de iterações atingido\n",
            "Máximo de iterações atingido\n",
            "Máximo de iterações atingido\n",
            "Máximo de iterações atingido\n",
            "Máximo de iterações atingido\n",
            "Máximo de iterações atingido\n",
            "Máximo de iterações atingido\n",
            "Máximo de iterações atingido\n",
            "Máximo de iterações atingido\n",
            "Máximo de iterações atingido\n",
            "Máximo de iterações atingido\n",
            "Máximo de iterações atingido\n",
            "Máximo de iterações atingido\n",
            "Máximo de iterações atingido\n",
            "Máximo de iterações atingido\n",
            "Máximo de iterações atingido\n",
            "Máximo de iterações atingido\n",
            "Máximo de iterações atingido\n",
            "Máximo de iterações atingido\n",
            "Máximo de iterações atingido\n",
            "Máximo de iterações atingido\n",
            "Máximo de iterações atingido\n",
            "Máximo de iterações atingido\n",
            "Máximo de iterações atingido\n",
            "Máximo de iterações atingido\n",
            "Máximo de iterações atingido\n",
            "Máximo de iterações atingido\n",
            "Máximo de iterações atingido\n",
            "Máximo de iterações atingido\n",
            "Máximo de iterações atingido\n",
            "Máximo de iterações atingido\n",
            "Máximo de iterações atingido\n",
            "Máximo de iterações atingido\n",
            "Máximo de iterações atingido\n"
          ]
        }
      ]
    },
    {
      "cell_type": "code",
      "source": [
        "display( pd.DataFrame(lasso_dict).assign(Model='Lasso').sort_values('EQM')\n",
        "        ,pd.DataFrame(lasso_me_dict).assign(Model='LassoME').sort_values('EQM')\n",
        "        ,pd.DataFrame(elastic_dict).assign(Model='ElasticNet').sort_values('EQM') )"
      ],
      "metadata": {
        "colab": {
          "base_uri": "https://localhost:8080/",
          "height": 1000
        },
        "id": "Lo1tB-UeIBMM",
        "outputId": "53359a58-6f6f-4ccc-c42d-1e71f57c7095"
      },
      "execution_count": 5,
      "outputs": [
        {
          "output_type": "display_data",
          "data": {
            "text/plain": [
              "   Lambda         EQM  Model\n",
              "4    0.25   18.125148  Lasso\n",
              "3    0.20   28.077662  Lasso\n",
              "2    0.15   49.309410  Lasso\n",
              "1    0.10  396.610843  Lasso\n",
              "0    0.05  428.275924  Lasso"
            ],
            "text/html": [
              "\n",
              "  <div id=\"df-0c15b1d2-ff47-4f14-8876-177ecc88bead\">\n",
              "    <div class=\"colab-df-container\">\n",
              "      <div>\n",
              "<style scoped>\n",
              "    .dataframe tbody tr th:only-of-type {\n",
              "        vertical-align: middle;\n",
              "    }\n",
              "\n",
              "    .dataframe tbody tr th {\n",
              "        vertical-align: top;\n",
              "    }\n",
              "\n",
              "    .dataframe thead th {\n",
              "        text-align: right;\n",
              "    }\n",
              "</style>\n",
              "<table border=\"1\" class=\"dataframe\">\n",
              "  <thead>\n",
              "    <tr style=\"text-align: right;\">\n",
              "      <th></th>\n",
              "      <th>Lambda</th>\n",
              "      <th>EQM</th>\n",
              "      <th>Model</th>\n",
              "    </tr>\n",
              "  </thead>\n",
              "  <tbody>\n",
              "    <tr>\n",
              "      <th>4</th>\n",
              "      <td>0.25</td>\n",
              "      <td>18.125148</td>\n",
              "      <td>Lasso</td>\n",
              "    </tr>\n",
              "    <tr>\n",
              "      <th>3</th>\n",
              "      <td>0.20</td>\n",
              "      <td>28.077662</td>\n",
              "      <td>Lasso</td>\n",
              "    </tr>\n",
              "    <tr>\n",
              "      <th>2</th>\n",
              "      <td>0.15</td>\n",
              "      <td>49.309410</td>\n",
              "      <td>Lasso</td>\n",
              "    </tr>\n",
              "    <tr>\n",
              "      <th>1</th>\n",
              "      <td>0.10</td>\n",
              "      <td>396.610843</td>\n",
              "      <td>Lasso</td>\n",
              "    </tr>\n",
              "    <tr>\n",
              "      <th>0</th>\n",
              "      <td>0.05</td>\n",
              "      <td>428.275924</td>\n",
              "      <td>Lasso</td>\n",
              "    </tr>\n",
              "  </tbody>\n",
              "</table>\n",
              "</div>\n",
              "      <button class=\"colab-df-convert\" onclick=\"convertToInteractive('df-0c15b1d2-ff47-4f14-8876-177ecc88bead')\"\n",
              "              title=\"Convert this dataframe to an interactive table.\"\n",
              "              style=\"display:none;\">\n",
              "        \n",
              "  <svg xmlns=\"http://www.w3.org/2000/svg\" height=\"24px\"viewBox=\"0 0 24 24\"\n",
              "       width=\"24px\">\n",
              "    <path d=\"M0 0h24v24H0V0z\" fill=\"none\"/>\n",
              "    <path d=\"M18.56 5.44l.94 2.06.94-2.06 2.06-.94-2.06-.94-.94-2.06-.94 2.06-2.06.94zm-11 1L8.5 8.5l.94-2.06 2.06-.94-2.06-.94L8.5 2.5l-.94 2.06-2.06.94zm10 10l.94 2.06.94-2.06 2.06-.94-2.06-.94-.94-2.06-.94 2.06-2.06.94z\"/><path d=\"M17.41 7.96l-1.37-1.37c-.4-.4-.92-.59-1.43-.59-.52 0-1.04.2-1.43.59L10.3 9.45l-7.72 7.72c-.78.78-.78 2.05 0 2.83L4 21.41c.39.39.9.59 1.41.59.51 0 1.02-.2 1.41-.59l7.78-7.78 2.81-2.81c.8-.78.8-2.07 0-2.86zM5.41 20L4 18.59l7.72-7.72 1.47 1.35L5.41 20z\"/>\n",
              "  </svg>\n",
              "      </button>\n",
              "      \n",
              "  <style>\n",
              "    .colab-df-container {\n",
              "      display:flex;\n",
              "      flex-wrap:wrap;\n",
              "      gap: 12px;\n",
              "    }\n",
              "\n",
              "    .colab-df-convert {\n",
              "      background-color: #E8F0FE;\n",
              "      border: none;\n",
              "      border-radius: 50%;\n",
              "      cursor: pointer;\n",
              "      display: none;\n",
              "      fill: #1967D2;\n",
              "      height: 32px;\n",
              "      padding: 0 0 0 0;\n",
              "      width: 32px;\n",
              "    }\n",
              "\n",
              "    .colab-df-convert:hover {\n",
              "      background-color: #E2EBFA;\n",
              "      box-shadow: 0px 1px 2px rgba(60, 64, 67, 0.3), 0px 1px 3px 1px rgba(60, 64, 67, 0.15);\n",
              "      fill: #174EA6;\n",
              "    }\n",
              "\n",
              "    [theme=dark] .colab-df-convert {\n",
              "      background-color: #3B4455;\n",
              "      fill: #D2E3FC;\n",
              "    }\n",
              "\n",
              "    [theme=dark] .colab-df-convert:hover {\n",
              "      background-color: #434B5C;\n",
              "      box-shadow: 0px 1px 3px 1px rgba(0, 0, 0, 0.15);\n",
              "      filter: drop-shadow(0px 1px 2px rgba(0, 0, 0, 0.3));\n",
              "      fill: #FFFFFF;\n",
              "    }\n",
              "  </style>\n",
              "\n",
              "      <script>\n",
              "        const buttonEl =\n",
              "          document.querySelector('#df-0c15b1d2-ff47-4f14-8876-177ecc88bead button.colab-df-convert');\n",
              "        buttonEl.style.display =\n",
              "          google.colab.kernel.accessAllowed ? 'block' : 'none';\n",
              "\n",
              "        async function convertToInteractive(key) {\n",
              "          const element = document.querySelector('#df-0c15b1d2-ff47-4f14-8876-177ecc88bead');\n",
              "          const dataTable =\n",
              "            await google.colab.kernel.invokeFunction('convertToInteractive',\n",
              "                                                     [key], {});\n",
              "          if (!dataTable) return;\n",
              "\n",
              "          const docLinkHtml = 'Like what you see? Visit the ' +\n",
              "            '<a target=\"_blank\" href=https://colab.research.google.com/notebooks/data_table.ipynb>data table notebook</a>'\n",
              "            + ' to learn more about interactive tables.';\n",
              "          element.innerHTML = '';\n",
              "          dataTable['output_type'] = 'display_data';\n",
              "          await google.colab.output.renderOutput(dataTable, element);\n",
              "          const docLink = document.createElement('div');\n",
              "          docLink.innerHTML = docLinkHtml;\n",
              "          element.appendChild(docLink);\n",
              "        }\n",
              "      </script>\n",
              "    </div>\n",
              "  </div>\n",
              "  "
            ]
          },
          "metadata": {}
        },
        {
          "output_type": "display_data",
          "data": {
            "text/plain": [
              "   Lambda           EQM    Model\n",
              "4    0.25   1510.040345  LassoME\n",
              "3    0.20   3093.173554  LassoME\n",
              "2    0.15   5827.377514  LassoME\n",
              "1    0.10  10050.713059  LassoME\n",
              "0    0.05  16349.890301  LassoME"
            ],
            "text/html": [
              "\n",
              "  <div id=\"df-e35c48ea-5c21-475d-935c-61ed20307aba\">\n",
              "    <div class=\"colab-df-container\">\n",
              "      <div>\n",
              "<style scoped>\n",
              "    .dataframe tbody tr th:only-of-type {\n",
              "        vertical-align: middle;\n",
              "    }\n",
              "\n",
              "    .dataframe tbody tr th {\n",
              "        vertical-align: top;\n",
              "    }\n",
              "\n",
              "    .dataframe thead th {\n",
              "        text-align: right;\n",
              "    }\n",
              "</style>\n",
              "<table border=\"1\" class=\"dataframe\">\n",
              "  <thead>\n",
              "    <tr style=\"text-align: right;\">\n",
              "      <th></th>\n",
              "      <th>Lambda</th>\n",
              "      <th>EQM</th>\n",
              "      <th>Model</th>\n",
              "    </tr>\n",
              "  </thead>\n",
              "  <tbody>\n",
              "    <tr>\n",
              "      <th>4</th>\n",
              "      <td>0.25</td>\n",
              "      <td>1510.040345</td>\n",
              "      <td>LassoME</td>\n",
              "    </tr>\n",
              "    <tr>\n",
              "      <th>3</th>\n",
              "      <td>0.20</td>\n",
              "      <td>3093.173554</td>\n",
              "      <td>LassoME</td>\n",
              "    </tr>\n",
              "    <tr>\n",
              "      <th>2</th>\n",
              "      <td>0.15</td>\n",
              "      <td>5827.377514</td>\n",
              "      <td>LassoME</td>\n",
              "    </tr>\n",
              "    <tr>\n",
              "      <th>1</th>\n",
              "      <td>0.10</td>\n",
              "      <td>10050.713059</td>\n",
              "      <td>LassoME</td>\n",
              "    </tr>\n",
              "    <tr>\n",
              "      <th>0</th>\n",
              "      <td>0.05</td>\n",
              "      <td>16349.890301</td>\n",
              "      <td>LassoME</td>\n",
              "    </tr>\n",
              "  </tbody>\n",
              "</table>\n",
              "</div>\n",
              "      <button class=\"colab-df-convert\" onclick=\"convertToInteractive('df-e35c48ea-5c21-475d-935c-61ed20307aba')\"\n",
              "              title=\"Convert this dataframe to an interactive table.\"\n",
              "              style=\"display:none;\">\n",
              "        \n",
              "  <svg xmlns=\"http://www.w3.org/2000/svg\" height=\"24px\"viewBox=\"0 0 24 24\"\n",
              "       width=\"24px\">\n",
              "    <path d=\"M0 0h24v24H0V0z\" fill=\"none\"/>\n",
              "    <path d=\"M18.56 5.44l.94 2.06.94-2.06 2.06-.94-2.06-.94-.94-2.06-.94 2.06-2.06.94zm-11 1L8.5 8.5l.94-2.06 2.06-.94-2.06-.94L8.5 2.5l-.94 2.06-2.06.94zm10 10l.94 2.06.94-2.06 2.06-.94-2.06-.94-.94-2.06-.94 2.06-2.06.94z\"/><path d=\"M17.41 7.96l-1.37-1.37c-.4-.4-.92-.59-1.43-.59-.52 0-1.04.2-1.43.59L10.3 9.45l-7.72 7.72c-.78.78-.78 2.05 0 2.83L4 21.41c.39.39.9.59 1.41.59.51 0 1.02-.2 1.41-.59l7.78-7.78 2.81-2.81c.8-.78.8-2.07 0-2.86zM5.41 20L4 18.59l7.72-7.72 1.47 1.35L5.41 20z\"/>\n",
              "  </svg>\n",
              "      </button>\n",
              "      \n",
              "  <style>\n",
              "    .colab-df-container {\n",
              "      display:flex;\n",
              "      flex-wrap:wrap;\n",
              "      gap: 12px;\n",
              "    }\n",
              "\n",
              "    .colab-df-convert {\n",
              "      background-color: #E8F0FE;\n",
              "      border: none;\n",
              "      border-radius: 50%;\n",
              "      cursor: pointer;\n",
              "      display: none;\n",
              "      fill: #1967D2;\n",
              "      height: 32px;\n",
              "      padding: 0 0 0 0;\n",
              "      width: 32px;\n",
              "    }\n",
              "\n",
              "    .colab-df-convert:hover {\n",
              "      background-color: #E2EBFA;\n",
              "      box-shadow: 0px 1px 2px rgba(60, 64, 67, 0.3), 0px 1px 3px 1px rgba(60, 64, 67, 0.15);\n",
              "      fill: #174EA6;\n",
              "    }\n",
              "\n",
              "    [theme=dark] .colab-df-convert {\n",
              "      background-color: #3B4455;\n",
              "      fill: #D2E3FC;\n",
              "    }\n",
              "\n",
              "    [theme=dark] .colab-df-convert:hover {\n",
              "      background-color: #434B5C;\n",
              "      box-shadow: 0px 1px 3px 1px rgba(0, 0, 0, 0.15);\n",
              "      filter: drop-shadow(0px 1px 2px rgba(0, 0, 0, 0.3));\n",
              "      fill: #FFFFFF;\n",
              "    }\n",
              "  </style>\n",
              "\n",
              "      <script>\n",
              "        const buttonEl =\n",
              "          document.querySelector('#df-e35c48ea-5c21-475d-935c-61ed20307aba button.colab-df-convert');\n",
              "        buttonEl.style.display =\n",
              "          google.colab.kernel.accessAllowed ? 'block' : 'none';\n",
              "\n",
              "        async function convertToInteractive(key) {\n",
              "          const element = document.querySelector('#df-e35c48ea-5c21-475d-935c-61ed20307aba');\n",
              "          const dataTable =\n",
              "            await google.colab.kernel.invokeFunction('convertToInteractive',\n",
              "                                                     [key], {});\n",
              "          if (!dataTable) return;\n",
              "\n",
              "          const docLinkHtml = 'Like what you see? Visit the ' +\n",
              "            '<a target=\"_blank\" href=https://colab.research.google.com/notebooks/data_table.ipynb>data table notebook</a>'\n",
              "            + ' to learn more about interactive tables.';\n",
              "          element.innerHTML = '';\n",
              "          dataTable['output_type'] = 'display_data';\n",
              "          await google.colab.output.renderOutput(dataTable, element);\n",
              "          const docLink = document.createElement('div');\n",
              "          docLink.innerHTML = docLinkHtml;\n",
              "          element.appendChild(docLink);\n",
              "        }\n",
              "      </script>\n",
              "    </div>\n",
              "  </div>\n",
              "  "
            ]
          },
          "metadata": {}
        },
        {
          "output_type": "display_data",
          "data": {
            "text/plain": [
              "    alpha  Lambda        EQM       Model\n",
              "22   0.85    0.15   6.026695  ElasticNet\n",
              "23   0.85    0.20   6.068254  ElasticNet\n",
              "21   0.85    0.10   6.108106  ElasticNet\n",
              "24   0.85    0.25   6.355635  ElasticNet\n",
              "20   0.85    0.05   9.015240  ElasticNet\n",
              "18   0.65    0.20  15.404606  ElasticNet\n",
              "17   0.65    0.15  15.570775  ElasticNet\n",
              "16   0.65    0.10  15.823115  ElasticNet\n",
              "19   0.65    0.25  15.842994  ElasticNet\n",
              "15   0.65    0.05  19.789141  ElasticNet\n",
              "12   0.45    0.15  31.871375  ElasticNet\n",
              "13   0.45    0.20  31.881069  ElasticNet\n",
              "11   0.45    0.10  32.156033  ElasticNet\n",
              "14   0.45    0.25  32.345683  ElasticNet\n",
              "10   0.45    0.05  33.387320  ElasticNet\n",
              "9    0.25    0.25  46.749466  ElasticNet\n",
              "8    0.25    0.20  46.886299  ElasticNet\n",
              "7    0.25    0.15  46.993602  ElasticNet\n",
              "6    0.25    0.10  47.161122  ElasticNet\n",
              "5    0.25    0.05  47.472783  ElasticNet\n",
              "0    0.05    0.05  58.408677  ElasticNet\n",
              "1    0.05    0.10  58.670168  ElasticNet\n",
              "4    0.05    0.25  59.728948  ElasticNet\n",
              "3    0.05    0.20  59.805697  ElasticNet\n",
              "2    0.05    0.15  59.884205  ElasticNet"
            ],
            "text/html": [
              "\n",
              "  <div id=\"df-6e4f3932-5909-4890-9df0-a888dc36b462\">\n",
              "    <div class=\"colab-df-container\">\n",
              "      <div>\n",
              "<style scoped>\n",
              "    .dataframe tbody tr th:only-of-type {\n",
              "        vertical-align: middle;\n",
              "    }\n",
              "\n",
              "    .dataframe tbody tr th {\n",
              "        vertical-align: top;\n",
              "    }\n",
              "\n",
              "    .dataframe thead th {\n",
              "        text-align: right;\n",
              "    }\n",
              "</style>\n",
              "<table border=\"1\" class=\"dataframe\">\n",
              "  <thead>\n",
              "    <tr style=\"text-align: right;\">\n",
              "      <th></th>\n",
              "      <th>alpha</th>\n",
              "      <th>Lambda</th>\n",
              "      <th>EQM</th>\n",
              "      <th>Model</th>\n",
              "    </tr>\n",
              "  </thead>\n",
              "  <tbody>\n",
              "    <tr>\n",
              "      <th>22</th>\n",
              "      <td>0.85</td>\n",
              "      <td>0.15</td>\n",
              "      <td>6.026695</td>\n",
              "      <td>ElasticNet</td>\n",
              "    </tr>\n",
              "    <tr>\n",
              "      <th>23</th>\n",
              "      <td>0.85</td>\n",
              "      <td>0.20</td>\n",
              "      <td>6.068254</td>\n",
              "      <td>ElasticNet</td>\n",
              "    </tr>\n",
              "    <tr>\n",
              "      <th>21</th>\n",
              "      <td>0.85</td>\n",
              "      <td>0.10</td>\n",
              "      <td>6.108106</td>\n",
              "      <td>ElasticNet</td>\n",
              "    </tr>\n",
              "    <tr>\n",
              "      <th>24</th>\n",
              "      <td>0.85</td>\n",
              "      <td>0.25</td>\n",
              "      <td>6.355635</td>\n",
              "      <td>ElasticNet</td>\n",
              "    </tr>\n",
              "    <tr>\n",
              "      <th>20</th>\n",
              "      <td>0.85</td>\n",
              "      <td>0.05</td>\n",
              "      <td>9.015240</td>\n",
              "      <td>ElasticNet</td>\n",
              "    </tr>\n",
              "    <tr>\n",
              "      <th>18</th>\n",
              "      <td>0.65</td>\n",
              "      <td>0.20</td>\n",
              "      <td>15.404606</td>\n",
              "      <td>ElasticNet</td>\n",
              "    </tr>\n",
              "    <tr>\n",
              "      <th>17</th>\n",
              "      <td>0.65</td>\n",
              "      <td>0.15</td>\n",
              "      <td>15.570775</td>\n",
              "      <td>ElasticNet</td>\n",
              "    </tr>\n",
              "    <tr>\n",
              "      <th>16</th>\n",
              "      <td>0.65</td>\n",
              "      <td>0.10</td>\n",
              "      <td>15.823115</td>\n",
              "      <td>ElasticNet</td>\n",
              "    </tr>\n",
              "    <tr>\n",
              "      <th>19</th>\n",
              "      <td>0.65</td>\n",
              "      <td>0.25</td>\n",
              "      <td>15.842994</td>\n",
              "      <td>ElasticNet</td>\n",
              "    </tr>\n",
              "    <tr>\n",
              "      <th>15</th>\n",
              "      <td>0.65</td>\n",
              "      <td>0.05</td>\n",
              "      <td>19.789141</td>\n",
              "      <td>ElasticNet</td>\n",
              "    </tr>\n",
              "    <tr>\n",
              "      <th>12</th>\n",
              "      <td>0.45</td>\n",
              "      <td>0.15</td>\n",
              "      <td>31.871375</td>\n",
              "      <td>ElasticNet</td>\n",
              "    </tr>\n",
              "    <tr>\n",
              "      <th>13</th>\n",
              "      <td>0.45</td>\n",
              "      <td>0.20</td>\n",
              "      <td>31.881069</td>\n",
              "      <td>ElasticNet</td>\n",
              "    </tr>\n",
              "    <tr>\n",
              "      <th>11</th>\n",
              "      <td>0.45</td>\n",
              "      <td>0.10</td>\n",
              "      <td>32.156033</td>\n",
              "      <td>ElasticNet</td>\n",
              "    </tr>\n",
              "    <tr>\n",
              "      <th>14</th>\n",
              "      <td>0.45</td>\n",
              "      <td>0.25</td>\n",
              "      <td>32.345683</td>\n",
              "      <td>ElasticNet</td>\n",
              "    </tr>\n",
              "    <tr>\n",
              "      <th>10</th>\n",
              "      <td>0.45</td>\n",
              "      <td>0.05</td>\n",
              "      <td>33.387320</td>\n",
              "      <td>ElasticNet</td>\n",
              "    </tr>\n",
              "    <tr>\n",
              "      <th>9</th>\n",
              "      <td>0.25</td>\n",
              "      <td>0.25</td>\n",
              "      <td>46.749466</td>\n",
              "      <td>ElasticNet</td>\n",
              "    </tr>\n",
              "    <tr>\n",
              "      <th>8</th>\n",
              "      <td>0.25</td>\n",
              "      <td>0.20</td>\n",
              "      <td>46.886299</td>\n",
              "      <td>ElasticNet</td>\n",
              "    </tr>\n",
              "    <tr>\n",
              "      <th>7</th>\n",
              "      <td>0.25</td>\n",
              "      <td>0.15</td>\n",
              "      <td>46.993602</td>\n",
              "      <td>ElasticNet</td>\n",
              "    </tr>\n",
              "    <tr>\n",
              "      <th>6</th>\n",
              "      <td>0.25</td>\n",
              "      <td>0.10</td>\n",
              "      <td>47.161122</td>\n",
              "      <td>ElasticNet</td>\n",
              "    </tr>\n",
              "    <tr>\n",
              "      <th>5</th>\n",
              "      <td>0.25</td>\n",
              "      <td>0.05</td>\n",
              "      <td>47.472783</td>\n",
              "      <td>ElasticNet</td>\n",
              "    </tr>\n",
              "    <tr>\n",
              "      <th>0</th>\n",
              "      <td>0.05</td>\n",
              "      <td>0.05</td>\n",
              "      <td>58.408677</td>\n",
              "      <td>ElasticNet</td>\n",
              "    </tr>\n",
              "    <tr>\n",
              "      <th>1</th>\n",
              "      <td>0.05</td>\n",
              "      <td>0.10</td>\n",
              "      <td>58.670168</td>\n",
              "      <td>ElasticNet</td>\n",
              "    </tr>\n",
              "    <tr>\n",
              "      <th>4</th>\n",
              "      <td>0.05</td>\n",
              "      <td>0.25</td>\n",
              "      <td>59.728948</td>\n",
              "      <td>ElasticNet</td>\n",
              "    </tr>\n",
              "    <tr>\n",
              "      <th>3</th>\n",
              "      <td>0.05</td>\n",
              "      <td>0.20</td>\n",
              "      <td>59.805697</td>\n",
              "      <td>ElasticNet</td>\n",
              "    </tr>\n",
              "    <tr>\n",
              "      <th>2</th>\n",
              "      <td>0.05</td>\n",
              "      <td>0.15</td>\n",
              "      <td>59.884205</td>\n",
              "      <td>ElasticNet</td>\n",
              "    </tr>\n",
              "  </tbody>\n",
              "</table>\n",
              "</div>\n",
              "      <button class=\"colab-df-convert\" onclick=\"convertToInteractive('df-6e4f3932-5909-4890-9df0-a888dc36b462')\"\n",
              "              title=\"Convert this dataframe to an interactive table.\"\n",
              "              style=\"display:none;\">\n",
              "        \n",
              "  <svg xmlns=\"http://www.w3.org/2000/svg\" height=\"24px\"viewBox=\"0 0 24 24\"\n",
              "       width=\"24px\">\n",
              "    <path d=\"M0 0h24v24H0V0z\" fill=\"none\"/>\n",
              "    <path d=\"M18.56 5.44l.94 2.06.94-2.06 2.06-.94-2.06-.94-.94-2.06-.94 2.06-2.06.94zm-11 1L8.5 8.5l.94-2.06 2.06-.94-2.06-.94L8.5 2.5l-.94 2.06-2.06.94zm10 10l.94 2.06.94-2.06 2.06-.94-2.06-.94-.94-2.06-.94 2.06-2.06.94z\"/><path d=\"M17.41 7.96l-1.37-1.37c-.4-.4-.92-.59-1.43-.59-.52 0-1.04.2-1.43.59L10.3 9.45l-7.72 7.72c-.78.78-.78 2.05 0 2.83L4 21.41c.39.39.9.59 1.41.59.51 0 1.02-.2 1.41-.59l7.78-7.78 2.81-2.81c.8-.78.8-2.07 0-2.86zM5.41 20L4 18.59l7.72-7.72 1.47 1.35L5.41 20z\"/>\n",
              "  </svg>\n",
              "      </button>\n",
              "      \n",
              "  <style>\n",
              "    .colab-df-container {\n",
              "      display:flex;\n",
              "      flex-wrap:wrap;\n",
              "      gap: 12px;\n",
              "    }\n",
              "\n",
              "    .colab-df-convert {\n",
              "      background-color: #E8F0FE;\n",
              "      border: none;\n",
              "      border-radius: 50%;\n",
              "      cursor: pointer;\n",
              "      display: none;\n",
              "      fill: #1967D2;\n",
              "      height: 32px;\n",
              "      padding: 0 0 0 0;\n",
              "      width: 32px;\n",
              "    }\n",
              "\n",
              "    .colab-df-convert:hover {\n",
              "      background-color: #E2EBFA;\n",
              "      box-shadow: 0px 1px 2px rgba(60, 64, 67, 0.3), 0px 1px 3px 1px rgba(60, 64, 67, 0.15);\n",
              "      fill: #174EA6;\n",
              "    }\n",
              "\n",
              "    [theme=dark] .colab-df-convert {\n",
              "      background-color: #3B4455;\n",
              "      fill: #D2E3FC;\n",
              "    }\n",
              "\n",
              "    [theme=dark] .colab-df-convert:hover {\n",
              "      background-color: #434B5C;\n",
              "      box-shadow: 0px 1px 3px 1px rgba(0, 0, 0, 0.15);\n",
              "      filter: drop-shadow(0px 1px 2px rgba(0, 0, 0, 0.3));\n",
              "      fill: #FFFFFF;\n",
              "    }\n",
              "  </style>\n",
              "\n",
              "      <script>\n",
              "        const buttonEl =\n",
              "          document.querySelector('#df-6e4f3932-5909-4890-9df0-a888dc36b462 button.colab-df-convert');\n",
              "        buttonEl.style.display =\n",
              "          google.colab.kernel.accessAllowed ? 'block' : 'none';\n",
              "\n",
              "        async function convertToInteractive(key) {\n",
              "          const element = document.querySelector('#df-6e4f3932-5909-4890-9df0-a888dc36b462');\n",
              "          const dataTable =\n",
              "            await google.colab.kernel.invokeFunction('convertToInteractive',\n",
              "                                                     [key], {});\n",
              "          if (!dataTable) return;\n",
              "\n",
              "          const docLinkHtml = 'Like what you see? Visit the ' +\n",
              "            '<a target=\"_blank\" href=https://colab.research.google.com/notebooks/data_table.ipynb>data table notebook</a>'\n",
              "            + ' to learn more about interactive tables.';\n",
              "          element.innerHTML = '';\n",
              "          dataTable['output_type'] = 'display_data';\n",
              "          await google.colab.output.renderOutput(dataTable, element);\n",
              "          const docLink = document.createElement('div');\n",
              "          docLink.innerHTML = docLinkHtml;\n",
              "          element.appendChild(docLink);\n",
              "        }\n",
              "      </script>\n",
              "    </div>\n",
              "  </div>\n",
              "  "
            ]
          },
          "metadata": {}
        }
      ]
    },
    {
      "cell_type": "code",
      "source": [
        "np.random.seed(1)\n",
        "\n",
        "list_B0 = []\n",
        "list_e = []\n",
        "list_X = []\n",
        "list_y = []\n",
        "list_U = []\n",
        "list_W = []\n",
        "\n",
        "for i in range(100):\n",
        "  B0 = np.concatenate( (np.random.normal(0,2**2,s0), np.zeros(d-s0) ), axis=None )\n",
        "  e = np.random.normal(0,0.01,n)\n",
        "  X = np.random.normal(0,1,n*d).reshape(n,d)\n",
        "  y = X.dot(B0) + e\n",
        "  U = np.random.normal(0,0.2,n*d).reshape(n,d)\n",
        "  W = X + U\n",
        "\n",
        "  list_B0.append(B0)\n",
        "  list_e.append(e)\n",
        "  list_X.append(X)\n",
        "  list_y.append(y)\n",
        "  list_U.append(U)\n",
        "  list_W.append(W)"
      ],
      "metadata": {
        "id": "NRy_Mxrp3T0N"
      },
      "execution_count": 23,
      "outputs": []
    },
    {
      "cell_type": "code",
      "source": [
        "from tqdm import tqdm\n",
        "\n",
        "results_dict = {\"Model\":[],\"L1\":[],\"L2\":[],\"EQM\":[]}\n",
        "\n",
        "for i in tqdm(range(100)):\n",
        "  B0 = list_B0[i]\n",
        "  e = list_e[i]\n",
        "  X = list_X[i]\n",
        "  y = list_y[i]\n",
        "  U = list_U[i]\n",
        "  W = list_W[i]\n",
        "  \n",
        "  lasso = Lasso(intercept = False, Lambda=0.25,max_iter=1_000,learning_rate=0.01,random_state=1).fit(W,y)\n",
        "  lasso_me = LassoME(intercept = False, Lambda=0.25, sigma = 0.2,max_iter=1000,learning_rate=0.01,random_state=1).fit(W,y)    \n",
        "  elastic = ElasticNet(intercept = False, Lambda=0.15, alpha = 0.85,random_state=1).fit(W,y)\n",
        "\n",
        "  results_dict[\"Model\"].append('Lasso')\n",
        "  results_dict[\"L1\"].append(np.linalg.norm(lasso.coef_ - B0, ord=1)/d)\n",
        "  results_dict[\"L2\"].append(np.linalg.norm(lasso.coef_ - B0, ord=2)/d)\n",
        "  results_dict[\"EQM\"].append(np.mean((lasso.predict(W) - y)**2))\n",
        "\n",
        "  results_dict[\"Model\"].append('LassoME')\n",
        "  results_dict[\"L1\"].append(np.linalg.norm(lasso_me.coef_ - B0, ord=1)/d)\n",
        "  results_dict[\"L2\"].append(np.linalg.norm(lasso_me.coef_ - B0, ord=2)/d)\n",
        "  results_dict[\"EQM\"].append(np.mean((lasso_me.predict(W) - y)**2))\n",
        "\n",
        "  results_dict[\"Model\"].append('ElasticNet')\n",
        "  results_dict[\"L1\"].append(np.linalg.norm(elastic.coef_ - B0, ord=1)/d)\n",
        "  results_dict[\"L2\"].append(np.linalg.norm(elastic.coef_ - B0, ord=2)/d)\n",
        "  results_dict[\"EQM\"].append(np.mean((elastic.predict(W) - y)**2))"
      ],
      "metadata": {
        "colab": {
          "base_uri": "https://localhost:8080/"
        },
        "outputId": "1cb2ba1b-d1f9-4d43-a537-cfe8d139e136",
        "id": "jPxNx8rG-075"
      },
      "execution_count": 24,
      "outputs": [
        {
          "output_type": "stream",
          "name": "stderr",
          "text": [
            "\r  0%|          | 0/100 [00:00<?, ?it/s]"
          ]
        },
        {
          "output_type": "stream",
          "name": "stdout",
          "text": [
            "Máximo de iterações atingido\n"
          ]
        },
        {
          "output_type": "stream",
          "name": "stderr",
          "text": [
            "\r  1%|          | 1/100 [00:23<37:59, 23.03s/it]"
          ]
        },
        {
          "output_type": "stream",
          "name": "stdout",
          "text": [
            "Máximo de iterações atingido\n",
            "Máximo de iterações atingido\n"
          ]
        },
        {
          "output_type": "stream",
          "name": "stderr",
          "text": [
            "\r  2%|▏         | 2/100 [00:46<37:41, 23.07s/it]"
          ]
        },
        {
          "output_type": "stream",
          "name": "stdout",
          "text": [
            "Máximo de iterações atingido\n",
            "Máximo de iterações atingido\n"
          ]
        },
        {
          "output_type": "stream",
          "name": "stderr",
          "text": [
            "\r  3%|▎         | 3/100 [01:07<35:50, 22.17s/it]"
          ]
        },
        {
          "output_type": "stream",
          "name": "stdout",
          "text": [
            "Máximo de iterações atingido\n",
            "Máximo de iterações atingido\n",
            "Máximo de iterações atingido\n"
          ]
        },
        {
          "output_type": "stream",
          "name": "stderr",
          "text": [
            "\r  4%|▍         | 4/100 [01:30<36:27, 22.78s/it]"
          ]
        },
        {
          "output_type": "stream",
          "name": "stdout",
          "text": [
            "Máximo de iterações atingido\n",
            "Máximo de iterações atingido\n",
            "Máximo de iterações atingido\n"
          ]
        },
        {
          "output_type": "stream",
          "name": "stderr",
          "text": [
            "\r  5%|▌         | 5/100 [01:54<36:28, 23.04s/it]"
          ]
        },
        {
          "output_type": "stream",
          "name": "stdout",
          "text": [
            "Máximo de iterações atingido\n",
            "Máximo de iterações atingido\n"
          ]
        },
        {
          "output_type": "stream",
          "name": "stderr",
          "text": [
            "\r  6%|▌         | 6/100 [02:13<34:01, 21.72s/it]"
          ]
        },
        {
          "output_type": "stream",
          "name": "stdout",
          "text": [
            "Máximo de iterações atingido\n",
            "Máximo de iterações atingido\n",
            "Máximo de iterações atingido\n"
          ]
        },
        {
          "output_type": "stream",
          "name": "stderr",
          "text": [
            "\r  7%|▋         | 7/100 [02:36<34:17, 22.12s/it]"
          ]
        },
        {
          "output_type": "stream",
          "name": "stdout",
          "text": [
            "Máximo de iterações atingido\n",
            "Máximo de iterações atingido\n",
            "Máximo de iterações atingido\n"
          ]
        },
        {
          "output_type": "stream",
          "name": "stderr",
          "text": [
            "\r  8%|▊         | 8/100 [02:59<34:21, 22.40s/it]"
          ]
        },
        {
          "output_type": "stream",
          "name": "stdout",
          "text": [
            "Máximo de iterações atingido\n",
            "Máximo de iterações atingido\n"
          ]
        },
        {
          "output_type": "stream",
          "name": "stderr",
          "text": [
            "\r  9%|▉         | 9/100 [03:21<33:58, 22.41s/it]"
          ]
        },
        {
          "output_type": "stream",
          "name": "stdout",
          "text": [
            "Máximo de iterações atingido\n",
            "Máximo de iterações atingido\n"
          ]
        },
        {
          "output_type": "stream",
          "name": "stderr",
          "text": [
            "\r 10%|█         | 10/100 [03:44<33:32, 22.36s/it]"
          ]
        },
        {
          "output_type": "stream",
          "name": "stdout",
          "text": [
            "Máximo de iterações atingido\n"
          ]
        },
        {
          "output_type": "stream",
          "name": "stderr",
          "text": [
            "\r 11%|█         | 11/100 [04:00<30:23, 20.49s/it]"
          ]
        },
        {
          "output_type": "stream",
          "name": "stdout",
          "text": [
            "Máximo de iterações atingido\n",
            "Máximo de iterações atingido\n"
          ]
        },
        {
          "output_type": "stream",
          "name": "stderr",
          "text": [
            "\r 12%|█▏        | 12/100 [04:21<30:17, 20.65s/it]"
          ]
        },
        {
          "output_type": "stream",
          "name": "stdout",
          "text": [
            "Máximo de iterações atingido\n",
            "Máximo de iterações atingido\n"
          ]
        },
        {
          "output_type": "stream",
          "name": "stderr",
          "text": [
            "\r 13%|█▎        | 13/100 [04:42<30:00, 20.69s/it]"
          ]
        },
        {
          "output_type": "stream",
          "name": "stdout",
          "text": [
            "Máximo de iterações atingido\n",
            "Máximo de iterações atingido\n"
          ]
        },
        {
          "output_type": "stream",
          "name": "stderr",
          "text": [
            "\r 14%|█▍        | 14/100 [05:00<28:47, 20.09s/it]"
          ]
        },
        {
          "output_type": "stream",
          "name": "stdout",
          "text": [
            "Máximo de iterações atingido\n",
            "Máximo de iterações atingido\n",
            "Máximo de iterações atingido\n"
          ]
        },
        {
          "output_type": "stream",
          "name": "stderr",
          "text": [
            "\r 15%|█▌        | 15/100 [05:23<29:42, 20.97s/it]"
          ]
        },
        {
          "output_type": "stream",
          "name": "stdout",
          "text": [
            "Máximo de iterações atingido\n",
            "Máximo de iterações atingido\n",
            "Máximo de iterações atingido\n"
          ]
        },
        {
          "output_type": "stream",
          "name": "stderr",
          "text": [
            "\r 16%|█▌        | 16/100 [05:46<30:10, 21.56s/it]"
          ]
        },
        {
          "output_type": "stream",
          "name": "stdout",
          "text": [
            "Máximo de iterações atingido\n",
            "Máximo de iterações atingido\n"
          ]
        },
        {
          "output_type": "stream",
          "name": "stderr",
          "text": [
            "\r 17%|█▋        | 17/100 [06:08<29:41, 21.46s/it]"
          ]
        },
        {
          "output_type": "stream",
          "name": "stdout",
          "text": [
            "Máximo de iterações atingido\n",
            "Máximo de iterações atingido\n"
          ]
        },
        {
          "output_type": "stream",
          "name": "stderr",
          "text": [
            "\r 18%|█▊        | 18/100 [06:29<29:26, 21.54s/it]"
          ]
        },
        {
          "output_type": "stream",
          "name": "stdout",
          "text": [
            "Máximo de iterações atingido\n"
          ]
        },
        {
          "output_type": "stream",
          "name": "stderr",
          "text": [
            "\r 19%|█▉        | 19/100 [06:47<27:29, 20.37s/it]"
          ]
        },
        {
          "output_type": "stream",
          "name": "stdout",
          "text": [
            "Máximo de iterações atingido\n",
            "Máximo de iterações atingido\n",
            "Máximo de iterações atingido\n"
          ]
        },
        {
          "output_type": "stream",
          "name": "stderr",
          "text": [
            "\r 20%|██        | 20/100 [07:10<28:20, 21.26s/it]"
          ]
        },
        {
          "output_type": "stream",
          "name": "stdout",
          "text": [
            "Máximo de iterações atingido\n",
            "Máximo de iterações atingido\n",
            "Máximo de iterações atingido\n"
          ]
        },
        {
          "output_type": "stream",
          "name": "stderr",
          "text": [
            "\r 21%|██        | 21/100 [07:34<28:45, 21.84s/it]"
          ]
        },
        {
          "output_type": "stream",
          "name": "stdout",
          "text": [
            "Máximo de iterações atingido\n",
            "Máximo de iterações atingido\n",
            "Máximo de iterações atingido\n"
          ]
        },
        {
          "output_type": "stream",
          "name": "stderr",
          "text": [
            "\r 22%|██▏       | 22/100 [07:56<28:46, 22.14s/it]"
          ]
        },
        {
          "output_type": "stream",
          "name": "stdout",
          "text": [
            "Máximo de iterações atingido\n",
            "Máximo de iterações atingido\n",
            "Máximo de iterações atingido\n"
          ]
        },
        {
          "output_type": "stream",
          "name": "stderr",
          "text": [
            "\r 23%|██▎       | 23/100 [08:19<28:40, 22.34s/it]"
          ]
        },
        {
          "output_type": "stream",
          "name": "stdout",
          "text": [
            "Máximo de iterações atingido\n",
            "Máximo de iterações atingido\n",
            "Máximo de iterações atingido\n"
          ]
        },
        {
          "output_type": "stream",
          "name": "stderr",
          "text": [
            "\r 24%|██▍       | 24/100 [08:42<28:31, 22.52s/it]"
          ]
        },
        {
          "output_type": "stream",
          "name": "stdout",
          "text": [
            "Máximo de iterações atingido\n",
            "Máximo de iterações atingido\n"
          ]
        },
        {
          "output_type": "stream",
          "name": "stderr",
          "text": [
            "\r 25%|██▌       | 25/100 [09:04<28:03, 22.45s/it]"
          ]
        },
        {
          "output_type": "stream",
          "name": "stdout",
          "text": [
            "Máximo de iterações atingido\n",
            "Máximo de iterações atingido\n",
            "Máximo de iterações atingido\n"
          ]
        },
        {
          "output_type": "stream",
          "name": "stderr",
          "text": [
            "\r 26%|██▌       | 26/100 [09:27<27:53, 22.62s/it]"
          ]
        },
        {
          "output_type": "stream",
          "name": "stdout",
          "text": [
            "Máximo de iterações atingido\n",
            "Máximo de iterações atingido\n"
          ]
        },
        {
          "output_type": "stream",
          "name": "stderr",
          "text": [
            "\r 27%|██▋       | 27/100 [09:49<27:11, 22.34s/it]"
          ]
        },
        {
          "output_type": "stream",
          "name": "stdout",
          "text": [
            "Máximo de iterações atingido\n",
            "Máximo de iterações atingido\n",
            "Máximo de iterações atingido\n"
          ]
        },
        {
          "output_type": "stream",
          "name": "stderr",
          "text": [
            "\r 28%|██▊       | 28/100 [10:12<27:05, 22.58s/it]"
          ]
        },
        {
          "output_type": "stream",
          "name": "stdout",
          "text": [
            "Máximo de iterações atingido\n",
            "Máximo de iterações atingido\n"
          ]
        },
        {
          "output_type": "stream",
          "name": "stderr",
          "text": [
            "\r 29%|██▉       | 29/100 [10:34<26:30, 22.41s/it]"
          ]
        },
        {
          "output_type": "stream",
          "name": "stdout",
          "text": [
            "Máximo de iterações atingido\n",
            "Máximo de iterações atingido\n"
          ]
        },
        {
          "output_type": "stream",
          "name": "stderr",
          "text": [
            "\r 30%|███       | 30/100 [10:55<25:37, 21.97s/it]"
          ]
        },
        {
          "output_type": "stream",
          "name": "stdout",
          "text": [
            "Máximo de iterações atingido\n",
            "Máximo de iterações atingido\n",
            "Máximo de iterações atingido\n"
          ]
        },
        {
          "output_type": "stream",
          "name": "stderr",
          "text": [
            "\r 31%|███       | 31/100 [11:18<25:43, 22.37s/it]"
          ]
        },
        {
          "output_type": "stream",
          "name": "stdout",
          "text": [
            "Máximo de iterações atingido\n",
            "Máximo de iterações atingido\n"
          ]
        },
        {
          "output_type": "stream",
          "name": "stderr",
          "text": [
            "\r 32%|███▏      | 32/100 [11:41<25:20, 22.36s/it]"
          ]
        },
        {
          "output_type": "stream",
          "name": "stdout",
          "text": [
            "Máximo de iterações atingido\n",
            "Máximo de iterações atingido\n",
            "Máximo de iterações atingido\n"
          ]
        },
        {
          "output_type": "stream",
          "name": "stderr",
          "text": [
            "\r 33%|███▎      | 33/100 [12:04<25:12, 22.58s/it]"
          ]
        },
        {
          "output_type": "stream",
          "name": "stdout",
          "text": [
            "Máximo de iterações atingido\n",
            "Máximo de iterações atingido\n"
          ]
        },
        {
          "output_type": "stream",
          "name": "stderr",
          "text": [
            "\r 34%|███▍      | 34/100 [12:25<24:27, 22.24s/it]"
          ]
        },
        {
          "output_type": "stream",
          "name": "stdout",
          "text": [
            "Máximo de iterações atingido\n",
            "Máximo de iterações atingido\n"
          ]
        },
        {
          "output_type": "stream",
          "name": "stderr",
          "text": [
            "\r 35%|███▌      | 35/100 [12:47<23:56, 22.11s/it]"
          ]
        },
        {
          "output_type": "stream",
          "name": "stdout",
          "text": [
            "Máximo de iterações atingido\n",
            "Máximo de iterações atingido\n",
            "Máximo de iterações atingido\n"
          ]
        },
        {
          "output_type": "stream",
          "name": "stderr",
          "text": [
            "\r 36%|███▌      | 36/100 [13:10<23:48, 22.33s/it]"
          ]
        },
        {
          "output_type": "stream",
          "name": "stdout",
          "text": [
            "Máximo de iterações atingido\n",
            "Máximo de iterações atingido\n",
            "Máximo de iterações atingido\n"
          ]
        },
        {
          "output_type": "stream",
          "name": "stderr",
          "text": [
            "\r 37%|███▋      | 37/100 [13:33<23:45, 22.62s/it]"
          ]
        },
        {
          "output_type": "stream",
          "name": "stdout",
          "text": [
            "Máximo de iterações atingido\n",
            "Máximo de iterações atingido\n"
          ]
        },
        {
          "output_type": "stream",
          "name": "stderr",
          "text": [
            "\r 38%|███▊      | 38/100 [13:54<22:52, 22.14s/it]"
          ]
        },
        {
          "output_type": "stream",
          "name": "stdout",
          "text": [
            "Máximo de iterações atingido\n"
          ]
        },
        {
          "output_type": "stream",
          "name": "stderr",
          "text": [
            "\r 39%|███▉      | 39/100 [14:10<20:35, 20.26s/it]"
          ]
        },
        {
          "output_type": "stream",
          "name": "stdout",
          "text": [
            "Máximo de iterações atingido\n"
          ]
        },
        {
          "output_type": "stream",
          "name": "stderr",
          "text": [
            "\r 40%|████      | 40/100 [14:25<18:31, 18.53s/it]"
          ]
        },
        {
          "output_type": "stream",
          "name": "stdout",
          "text": [
            "Máximo de iterações atingido\n",
            "Máximo de iterações atingido\n"
          ]
        },
        {
          "output_type": "stream",
          "name": "stderr",
          "text": [
            "\r 41%|████      | 41/100 [14:46<18:56, 19.26s/it]"
          ]
        },
        {
          "output_type": "stream",
          "name": "stdout",
          "text": [
            "Máximo de iterações atingido\n",
            "Máximo de iterações atingido\n"
          ]
        },
        {
          "output_type": "stream",
          "name": "stderr",
          "text": [
            "\r 42%|████▏     | 42/100 [15:08<19:26, 20.12s/it]"
          ]
        },
        {
          "output_type": "stream",
          "name": "stdout",
          "text": [
            "Máximo de iterações atingido\n",
            "Máximo de iterações atingido\n"
          ]
        },
        {
          "output_type": "stream",
          "name": "stderr",
          "text": [
            "\r 43%|████▎     | 43/100 [15:30<19:50, 20.89s/it]"
          ]
        },
        {
          "output_type": "stream",
          "name": "stdout",
          "text": [
            "Máximo de iterações atingido\n",
            "Máximo de iterações atingido\n"
          ]
        },
        {
          "output_type": "stream",
          "name": "stderr",
          "text": [
            "\r 44%|████▍     | 44/100 [15:52<19:42, 21.11s/it]"
          ]
        },
        {
          "output_type": "stream",
          "name": "stdout",
          "text": [
            "Máximo de iterações atingido\n",
            "Máximo de iterações atingido\n",
            "Máximo de iterações atingido\n"
          ]
        },
        {
          "output_type": "stream",
          "name": "stderr",
          "text": [
            "\r 45%|████▌     | 45/100 [16:17<20:25, 22.28s/it]"
          ]
        },
        {
          "output_type": "stream",
          "name": "stdout",
          "text": [
            "Máximo de iterações atingido\n",
            "Máximo de iterações atingido\n"
          ]
        },
        {
          "output_type": "stream",
          "name": "stderr",
          "text": [
            "\r 46%|████▌     | 46/100 [16:41<20:32, 22.82s/it]"
          ]
        },
        {
          "output_type": "stream",
          "name": "stdout",
          "text": [
            "Máximo de iterações atingido\n",
            "Máximo de iterações atingido\n"
          ]
        },
        {
          "output_type": "stream",
          "name": "stderr",
          "text": [
            "\r 47%|████▋     | 47/100 [17:06<20:35, 23.31s/it]"
          ]
        },
        {
          "output_type": "stream",
          "name": "stdout",
          "text": [
            "Máximo de iterações atingido\n",
            "Máximo de iterações atingido\n",
            "Máximo de iterações atingido\n"
          ]
        },
        {
          "output_type": "stream",
          "name": "stderr",
          "text": [
            "\r 48%|████▊     | 48/100 [17:30<20:26, 23.58s/it]"
          ]
        },
        {
          "output_type": "stream",
          "name": "stdout",
          "text": [
            "Máximo de iterações atingido\n",
            "Máximo de iterações atingido\n"
          ]
        },
        {
          "output_type": "stream",
          "name": "stderr",
          "text": [
            "\r 49%|████▉     | 49/100 [17:53<20:01, 23.55s/it]"
          ]
        },
        {
          "output_type": "stream",
          "name": "stdout",
          "text": [
            "Máximo de iterações atingido\n",
            "Máximo de iterações atingido\n",
            "Máximo de iterações atingido\n"
          ]
        },
        {
          "output_type": "stream",
          "name": "stderr",
          "text": [
            "\r 50%|█████     | 50/100 [18:18<19:49, 23.80s/it]"
          ]
        },
        {
          "output_type": "stream",
          "name": "stdout",
          "text": [
            "Máximo de iterações atingido\n",
            "Máximo de iterações atingido\n",
            "Máximo de iterações atingido\n"
          ]
        },
        {
          "output_type": "stream",
          "name": "stderr",
          "text": [
            "\r 51%|█████     | 51/100 [18:43<19:41, 24.11s/it]"
          ]
        },
        {
          "output_type": "stream",
          "name": "stdout",
          "text": [
            "Máximo de iterações atingido\n",
            "Máximo de iterações atingido\n"
          ]
        },
        {
          "output_type": "stream",
          "name": "stderr",
          "text": [
            "\r 52%|█████▏    | 52/100 [19:05<18:58, 23.72s/it]"
          ]
        },
        {
          "output_type": "stream",
          "name": "stdout",
          "text": [
            "Máximo de iterações atingido\n",
            "Máximo de iterações atingido\n",
            "Máximo de iterações atingido\n"
          ]
        },
        {
          "output_type": "stream",
          "name": "stderr",
          "text": [
            "\r 53%|█████▎    | 53/100 [19:30<18:43, 23.90s/it]"
          ]
        },
        {
          "output_type": "stream",
          "name": "stdout",
          "text": [
            "Máximo de iterações atingido\n",
            "Máximo de iterações atingido\n",
            "Máximo de iterações atingido\n"
          ]
        },
        {
          "output_type": "stream",
          "name": "stderr",
          "text": [
            "\r 54%|█████▍    | 54/100 [19:54<18:23, 24.00s/it]"
          ]
        },
        {
          "output_type": "stream",
          "name": "stdout",
          "text": [
            "Máximo de iterações atingido\n",
            "Máximo de iterações atingido\n"
          ]
        },
        {
          "output_type": "stream",
          "name": "stderr",
          "text": [
            "\r 55%|█████▌    | 55/100 [20:18<17:55, 23.89s/it]"
          ]
        },
        {
          "output_type": "stream",
          "name": "stdout",
          "text": [
            "Máximo de iterações atingido\n",
            "Máximo de iterações atingido\n"
          ]
        },
        {
          "output_type": "stream",
          "name": "stderr",
          "text": [
            "\r 56%|█████▌    | 56/100 [20:41<17:26, 23.77s/it]"
          ]
        },
        {
          "output_type": "stream",
          "name": "stdout",
          "text": [
            "Máximo de iterações atingido\n",
            "Máximo de iterações atingido\n"
          ]
        },
        {
          "output_type": "stream",
          "name": "stderr",
          "text": [
            "\r 57%|█████▋    | 57/100 [21:04<16:52, 23.56s/it]"
          ]
        },
        {
          "output_type": "stream",
          "name": "stdout",
          "text": [
            "Máximo de iterações atingido\n"
          ]
        },
        {
          "output_type": "stream",
          "name": "stderr",
          "text": [
            "\r 58%|█████▊    | 58/100 [21:23<15:36, 22.29s/it]"
          ]
        },
        {
          "output_type": "stream",
          "name": "stdout",
          "text": [
            "Máximo de iterações atingido\n",
            "Máximo de iterações atingido\n"
          ]
        },
        {
          "output_type": "stream",
          "name": "stderr",
          "text": [
            "\r 59%|█████▉    | 59/100 [21:47<15:34, 22.78s/it]"
          ]
        },
        {
          "output_type": "stream",
          "name": "stdout",
          "text": [
            "Máximo de iterações atingido\n",
            "Máximo de iterações atingido\n"
          ]
        },
        {
          "output_type": "stream",
          "name": "stderr",
          "text": [
            "\r 60%|██████    | 60/100 [22:12<15:29, 23.23s/it]"
          ]
        },
        {
          "output_type": "stream",
          "name": "stdout",
          "text": [
            "Máximo de iterações atingido\n",
            "Máximo de iterações atingido\n"
          ]
        },
        {
          "output_type": "stream",
          "name": "stderr",
          "text": [
            "\r 61%|██████    | 61/100 [22:33<14:43, 22.65s/it]"
          ]
        },
        {
          "output_type": "stream",
          "name": "stdout",
          "text": [
            "Máximo de iterações atingido\n"
          ]
        },
        {
          "output_type": "stream",
          "name": "stderr",
          "text": [
            "\r 62%|██████▏   | 62/100 [22:53<13:51, 21.89s/it]"
          ]
        },
        {
          "output_type": "stream",
          "name": "stdout",
          "text": [
            "Máximo de iterações atingido\n",
            "Máximo de iterações atingido\n",
            "Máximo de iterações atingido\n"
          ]
        },
        {
          "output_type": "stream",
          "name": "stderr",
          "text": [
            "\r 63%|██████▎   | 63/100 [23:17<13:56, 22.62s/it]"
          ]
        },
        {
          "output_type": "stream",
          "name": "stdout",
          "text": [
            "Máximo de iterações atingido\n",
            "Máximo de iterações atingido\n",
            "Máximo de iterações atingido\n"
          ]
        },
        {
          "output_type": "stream",
          "name": "stderr",
          "text": [
            "\r 64%|██████▍   | 64/100 [23:42<13:55, 23.20s/it]"
          ]
        },
        {
          "output_type": "stream",
          "name": "stdout",
          "text": [
            "Máximo de iterações atingido\n",
            "Máximo de iterações atingido\n"
          ]
        },
        {
          "output_type": "stream",
          "name": "stderr",
          "text": [
            "\r 65%|██████▌   | 65/100 [24:06<13:37, 23.35s/it]"
          ]
        },
        {
          "output_type": "stream",
          "name": "stdout",
          "text": [
            "Máximo de iterações atingido\n",
            "Máximo de iterações atingido\n"
          ]
        },
        {
          "output_type": "stream",
          "name": "stderr",
          "text": [
            "\r 66%|██████▌   | 66/100 [24:28<13:08, 23.18s/it]"
          ]
        },
        {
          "output_type": "stream",
          "name": "stdout",
          "text": [
            "Máximo de iterações atingido\n",
            "Máximo de iterações atingido\n",
            "Máximo de iterações atingido\n"
          ]
        },
        {
          "output_type": "stream",
          "name": "stderr",
          "text": [
            "\r 67%|██████▋   | 67/100 [24:54<13:04, 23.78s/it]"
          ]
        },
        {
          "output_type": "stream",
          "name": "stdout",
          "text": [
            "Máximo de iterações atingido\n"
          ]
        },
        {
          "output_type": "stream",
          "name": "stderr",
          "text": [
            "\r 68%|██████▊   | 68/100 [25:13<11:59, 22.47s/it]"
          ]
        },
        {
          "output_type": "stream",
          "name": "stdout",
          "text": [
            "Máximo de iterações atingido\n"
          ]
        },
        {
          "output_type": "stream",
          "name": "stderr",
          "text": [
            "\r 69%|██████▉   | 69/100 [25:32<11:08, 21.58s/it]"
          ]
        },
        {
          "output_type": "stream",
          "name": "stdout",
          "text": [
            "Máximo de iterações atingido\n",
            "Máximo de iterações atingido\n"
          ]
        },
        {
          "output_type": "stream",
          "name": "stderr",
          "text": [
            "\r 70%|███████   | 70/100 [25:54<10:48, 21.62s/it]"
          ]
        },
        {
          "output_type": "stream",
          "name": "stdout",
          "text": [
            "Máximo de iterações atingido\n",
            "Máximo de iterações atingido\n"
          ]
        },
        {
          "output_type": "stream",
          "name": "stderr",
          "text": [
            "\r 71%|███████   | 71/100 [26:15<10:21, 21.42s/it]"
          ]
        },
        {
          "output_type": "stream",
          "name": "stdout",
          "text": [
            "Máximo de iterações atingido\n",
            "Máximo de iterações atingido\n"
          ]
        },
        {
          "output_type": "stream",
          "name": "stderr",
          "text": [
            "\r 72%|███████▏  | 72/100 [26:38<10:13, 21.91s/it]"
          ]
        },
        {
          "output_type": "stream",
          "name": "stdout",
          "text": [
            "Máximo de iterações atingido\n",
            "Máximo de iterações atingido\n"
          ]
        },
        {
          "output_type": "stream",
          "name": "stderr",
          "text": [
            "\r 73%|███████▎  | 73/100 [27:02<10:07, 22.50s/it]"
          ]
        },
        {
          "output_type": "stream",
          "name": "stdout",
          "text": [
            "Máximo de iterações atingido\n"
          ]
        },
        {
          "output_type": "stream",
          "name": "stderr",
          "text": [
            "\r 74%|███████▍  | 74/100 [27:15<08:32, 19.69s/it]"
          ]
        },
        {
          "output_type": "stream",
          "name": "stdout",
          "text": [
            "Máximo de iterações atingido\n",
            "Máximo de iterações atingido\n"
          ]
        },
        {
          "output_type": "stream",
          "name": "stderr",
          "text": [
            "\r 75%|███████▌  | 75/100 [27:38<08:31, 20.47s/it]"
          ]
        },
        {
          "output_type": "stream",
          "name": "stdout",
          "text": [
            "Máximo de iterações atingido\n",
            "Máximo de iterações atingido\n",
            "Máximo de iterações atingido\n"
          ]
        },
        {
          "output_type": "stream",
          "name": "stderr",
          "text": [
            "\r 76%|███████▌  | 76/100 [28:00<08:28, 21.20s/it]"
          ]
        },
        {
          "output_type": "stream",
          "name": "stdout",
          "text": [
            "Máximo de iterações atingido\n",
            "Máximo de iterações atingido\n"
          ]
        },
        {
          "output_type": "stream",
          "name": "stderr",
          "text": [
            "\r 77%|███████▋  | 77/100 [28:23<08:17, 21.65s/it]"
          ]
        },
        {
          "output_type": "stream",
          "name": "stdout",
          "text": [
            "Máximo de iterações atingido\n",
            "Máximo de iterações atingido\n"
          ]
        },
        {
          "output_type": "stream",
          "name": "stderr",
          "text": [
            "\r 78%|███████▊  | 78/100 [28:42<07:39, 20.89s/it]"
          ]
        },
        {
          "output_type": "stream",
          "name": "stdout",
          "text": [
            "Máximo de iterações atingido\n",
            "Máximo de iterações atingido\n"
          ]
        },
        {
          "output_type": "stream",
          "name": "stderr",
          "text": [
            "\r 79%|███████▉  | 79/100 [29:06<07:34, 21.67s/it]"
          ]
        },
        {
          "output_type": "stream",
          "name": "stdout",
          "text": [
            "Máximo de iterações atingido\n",
            "Máximo de iterações atingido\n"
          ]
        },
        {
          "output_type": "stream",
          "name": "stderr",
          "text": [
            "\r 80%|████████  | 80/100 [29:29<07:20, 22.04s/it]"
          ]
        },
        {
          "output_type": "stream",
          "name": "stdout",
          "text": [
            "Máximo de iterações atingido\n",
            "Máximo de iterações atingido\n",
            "Máximo de iterações atingido\n"
          ]
        },
        {
          "output_type": "stream",
          "name": "stderr",
          "text": [
            "\r 81%|████████  | 81/100 [29:53<07:13, 22.84s/it]"
          ]
        },
        {
          "output_type": "stream",
          "name": "stdout",
          "text": [
            "Máximo de iterações atingido\n",
            "Máximo de iterações atingido\n"
          ]
        },
        {
          "output_type": "stream",
          "name": "stderr",
          "text": [
            "\r 82%|████████▏ | 82/100 [30:15<06:45, 22.52s/it]"
          ]
        },
        {
          "output_type": "stream",
          "name": "stdout",
          "text": [
            "Máximo de iterações atingido\n",
            "Máximo de iterações atingido\n",
            "Máximo de iterações atingido\n"
          ]
        },
        {
          "output_type": "stream",
          "name": "stderr",
          "text": [
            "\r 83%|████████▎ | 83/100 [30:39<06:31, 23.05s/it]"
          ]
        },
        {
          "output_type": "stream",
          "name": "stdout",
          "text": [
            "Máximo de iterações atingido\n",
            "Máximo de iterações atingido\n",
            "Máximo de iterações atingido\n"
          ]
        },
        {
          "output_type": "stream",
          "name": "stderr",
          "text": [
            "\r 84%|████████▍ | 84/100 [31:04<06:14, 23.41s/it]"
          ]
        },
        {
          "output_type": "stream",
          "name": "stdout",
          "text": [
            "Máximo de iterações atingido\n",
            "Máximo de iterações atingido\n"
          ]
        },
        {
          "output_type": "stream",
          "name": "stderr",
          "text": [
            "\r 85%|████████▌ | 85/100 [31:28<05:53, 23.60s/it]"
          ]
        },
        {
          "output_type": "stream",
          "name": "stdout",
          "text": [
            "Máximo de iterações atingido\n",
            "Máximo de iterações atingido\n",
            "Máximo de iterações atingido\n"
          ]
        },
        {
          "output_type": "stream",
          "name": "stderr",
          "text": [
            "\r 86%|████████▌ | 86/100 [31:53<05:37, 24.09s/it]"
          ]
        },
        {
          "output_type": "stream",
          "name": "stdout",
          "text": [
            "Máximo de iterações atingido\n",
            "Máximo de iterações atingido\n"
          ]
        },
        {
          "output_type": "stream",
          "name": "stderr",
          "text": [
            "\r 87%|████████▋ | 87/100 [32:16<05:09, 23.79s/it]"
          ]
        },
        {
          "output_type": "stream",
          "name": "stdout",
          "text": [
            "Máximo de iterações atingido\n",
            "Máximo de iterações atingido\n",
            "Máximo de iterações atingido\n"
          ]
        },
        {
          "output_type": "stream",
          "name": "stderr",
          "text": [
            "\r 88%|████████▊ | 88/100 [32:40<04:46, 23.84s/it]"
          ]
        },
        {
          "output_type": "stream",
          "name": "stdout",
          "text": [
            "Máximo de iterações atingido\n",
            "Máximo de iterações atingido\n",
            "Máximo de iterações atingido\n"
          ]
        },
        {
          "output_type": "stream",
          "name": "stderr",
          "text": [
            "\r 89%|████████▉ | 89/100 [33:04<04:23, 23.98s/it]"
          ]
        },
        {
          "output_type": "stream",
          "name": "stdout",
          "text": [
            "Máximo de iterações atingido\n",
            "Máximo de iterações atingido\n"
          ]
        },
        {
          "output_type": "stream",
          "name": "stderr",
          "text": [
            "\r 90%|█████████ | 90/100 [33:27<03:55, 23.53s/it]"
          ]
        },
        {
          "output_type": "stream",
          "name": "stdout",
          "text": [
            "Máximo de iterações atingido\n",
            "Máximo de iterações atingido\n",
            "Máximo de iterações atingido\n"
          ]
        },
        {
          "output_type": "stream",
          "name": "stderr",
          "text": [
            "\r 91%|█████████ | 91/100 [33:51<03:33, 23.70s/it]"
          ]
        },
        {
          "output_type": "stream",
          "name": "stdout",
          "text": [
            "Máximo de iterações atingido\n"
          ]
        },
        {
          "output_type": "stream",
          "name": "stderr",
          "text": [
            "\r 92%|█████████▏| 92/100 [34:10<02:58, 22.26s/it]"
          ]
        },
        {
          "output_type": "stream",
          "name": "stdout",
          "text": [
            "Máximo de iterações atingido\n",
            "Máximo de iterações atingido\n",
            "Máximo de iterações atingido\n"
          ]
        },
        {
          "output_type": "stream",
          "name": "stderr",
          "text": [
            "\r 93%|█████████▎| 93/100 [34:34<02:39, 22.82s/it]"
          ]
        },
        {
          "output_type": "stream",
          "name": "stdout",
          "text": [
            "Máximo de iterações atingido\n",
            "Máximo de iterações atingido\n"
          ]
        },
        {
          "output_type": "stream",
          "name": "stderr",
          "text": [
            "\r 94%|█████████▍| 94/100 [34:57<02:17, 22.87s/it]"
          ]
        },
        {
          "output_type": "stream",
          "name": "stdout",
          "text": [
            "Máximo de iterações atingido\n",
            "Máximo de iterações atingido\n",
            "Máximo de iterações atingido\n"
          ]
        },
        {
          "output_type": "stream",
          "name": "stderr",
          "text": [
            "\r 95%|█████████▌| 95/100 [35:21<01:56, 23.23s/it]"
          ]
        },
        {
          "output_type": "stream",
          "name": "stdout",
          "text": [
            "Máximo de iterações atingido\n"
          ]
        },
        {
          "output_type": "stream",
          "name": "stderr",
          "text": [
            "\r 96%|█████████▌| 96/100 [35:42<01:29, 22.45s/it]"
          ]
        },
        {
          "output_type": "stream",
          "name": "stdout",
          "text": [
            "Máximo de iterações atingido\n",
            "Máximo de iterações atingido\n"
          ]
        },
        {
          "output_type": "stream",
          "name": "stderr",
          "text": [
            "\r 97%|█████████▋| 97/100 [36:05<01:07, 22.66s/it]"
          ]
        },
        {
          "output_type": "stream",
          "name": "stdout",
          "text": [
            "Máximo de iterações atingido\n"
          ]
        },
        {
          "output_type": "stream",
          "name": "stderr",
          "text": [
            "\r 98%|█████████▊| 98/100 [36:24<00:43, 21.67s/it]"
          ]
        },
        {
          "output_type": "stream",
          "name": "stdout",
          "text": [
            "Máximo de iterações atingido\n",
            "Máximo de iterações atingido\n"
          ]
        },
        {
          "output_type": "stream",
          "name": "stderr",
          "text": [
            "\r 99%|█████████▉| 99/100 [36:48<00:22, 22.23s/it]"
          ]
        },
        {
          "output_type": "stream",
          "name": "stdout",
          "text": [
            "Máximo de iterações atingido\n"
          ]
        },
        {
          "output_type": "stream",
          "name": "stderr",
          "text": [
            "100%|██████████| 100/100 [37:05<00:00, 22.25s/it]"
          ]
        },
        {
          "output_type": "stream",
          "name": "stdout",
          "text": [
            "Máximo de iterações atingido\n"
          ]
        },
        {
          "output_type": "stream",
          "name": "stderr",
          "text": [
            "\n"
          ]
        }
      ]
    },
    {
      "cell_type": "code",
      "source": [
        "pd.DataFrame(results_dict).groupby('Model').agg(['mean','std'])"
      ],
      "metadata": {
        "colab": {
          "base_uri": "https://localhost:8080/",
          "height": 206
        },
        "id": "kDHmE_3aJt8m",
        "outputId": "fd2370f7-5f78-4af6-f8bf-24cb6a322a63"
      },
      "execution_count": 28,
      "outputs": [
        {
          "output_type": "execute_result",
          "data": {
            "text/plain": [
              "                  L1                  L2                 EQM          \n",
              "                mean       std      mean       std      mean       std\n",
              "Model                                                                 \n",
              "ElasticNet  0.026950  0.011892  0.004150  0.002006  0.690721  0.118195\n",
              "Lasso       0.052243  0.057121  0.009053  0.006061  1.970380  0.477483\n",
              "LassoME     0.738102  0.088892  0.070515  0.012677  2.100896  0.562644"
            ],
            "text/html": [
              "\n",
              "  <div id=\"df-2bac0151-383b-4e15-9968-d9da536d07a0\">\n",
              "    <div class=\"colab-df-container\">\n",
              "      <div>\n",
              "<style scoped>\n",
              "    .dataframe tbody tr th:only-of-type {\n",
              "        vertical-align: middle;\n",
              "    }\n",
              "\n",
              "    .dataframe tbody tr th {\n",
              "        vertical-align: top;\n",
              "    }\n",
              "\n",
              "    .dataframe thead tr th {\n",
              "        text-align: left;\n",
              "    }\n",
              "\n",
              "    .dataframe thead tr:last-of-type th {\n",
              "        text-align: right;\n",
              "    }\n",
              "</style>\n",
              "<table border=\"1\" class=\"dataframe\">\n",
              "  <thead>\n",
              "    <tr>\n",
              "      <th></th>\n",
              "      <th colspan=\"2\" halign=\"left\">L1</th>\n",
              "      <th colspan=\"2\" halign=\"left\">L2</th>\n",
              "      <th colspan=\"2\" halign=\"left\">EQM</th>\n",
              "    </tr>\n",
              "    <tr>\n",
              "      <th></th>\n",
              "      <th>mean</th>\n",
              "      <th>std</th>\n",
              "      <th>mean</th>\n",
              "      <th>std</th>\n",
              "      <th>mean</th>\n",
              "      <th>std</th>\n",
              "    </tr>\n",
              "    <tr>\n",
              "      <th>Model</th>\n",
              "      <th></th>\n",
              "      <th></th>\n",
              "      <th></th>\n",
              "      <th></th>\n",
              "      <th></th>\n",
              "      <th></th>\n",
              "    </tr>\n",
              "  </thead>\n",
              "  <tbody>\n",
              "    <tr>\n",
              "      <th>ElasticNet</th>\n",
              "      <td>0.026950</td>\n",
              "      <td>0.011892</td>\n",
              "      <td>0.004150</td>\n",
              "      <td>0.002006</td>\n",
              "      <td>0.690721</td>\n",
              "      <td>0.118195</td>\n",
              "    </tr>\n",
              "    <tr>\n",
              "      <th>Lasso</th>\n",
              "      <td>0.052243</td>\n",
              "      <td>0.057121</td>\n",
              "      <td>0.009053</td>\n",
              "      <td>0.006061</td>\n",
              "      <td>1.970380</td>\n",
              "      <td>0.477483</td>\n",
              "    </tr>\n",
              "    <tr>\n",
              "      <th>LassoME</th>\n",
              "      <td>0.738102</td>\n",
              "      <td>0.088892</td>\n",
              "      <td>0.070515</td>\n",
              "      <td>0.012677</td>\n",
              "      <td>2.100896</td>\n",
              "      <td>0.562644</td>\n",
              "    </tr>\n",
              "  </tbody>\n",
              "</table>\n",
              "</div>\n",
              "      <button class=\"colab-df-convert\" onclick=\"convertToInteractive('df-2bac0151-383b-4e15-9968-d9da536d07a0')\"\n",
              "              title=\"Convert this dataframe to an interactive table.\"\n",
              "              style=\"display:none;\">\n",
              "        \n",
              "  <svg xmlns=\"http://www.w3.org/2000/svg\" height=\"24px\"viewBox=\"0 0 24 24\"\n",
              "       width=\"24px\">\n",
              "    <path d=\"M0 0h24v24H0V0z\" fill=\"none\"/>\n",
              "    <path d=\"M18.56 5.44l.94 2.06.94-2.06 2.06-.94-2.06-.94-.94-2.06-.94 2.06-2.06.94zm-11 1L8.5 8.5l.94-2.06 2.06-.94-2.06-.94L8.5 2.5l-.94 2.06-2.06.94zm10 10l.94 2.06.94-2.06 2.06-.94-2.06-.94-.94-2.06-.94 2.06-2.06.94z\"/><path d=\"M17.41 7.96l-1.37-1.37c-.4-.4-.92-.59-1.43-.59-.52 0-1.04.2-1.43.59L10.3 9.45l-7.72 7.72c-.78.78-.78 2.05 0 2.83L4 21.41c.39.39.9.59 1.41.59.51 0 1.02-.2 1.41-.59l7.78-7.78 2.81-2.81c.8-.78.8-2.07 0-2.86zM5.41 20L4 18.59l7.72-7.72 1.47 1.35L5.41 20z\"/>\n",
              "  </svg>\n",
              "      </button>\n",
              "      \n",
              "  <style>\n",
              "    .colab-df-container {\n",
              "      display:flex;\n",
              "      flex-wrap:wrap;\n",
              "      gap: 12px;\n",
              "    }\n",
              "\n",
              "    .colab-df-convert {\n",
              "      background-color: #E8F0FE;\n",
              "      border: none;\n",
              "      border-radius: 50%;\n",
              "      cursor: pointer;\n",
              "      display: none;\n",
              "      fill: #1967D2;\n",
              "      height: 32px;\n",
              "      padding: 0 0 0 0;\n",
              "      width: 32px;\n",
              "    }\n",
              "\n",
              "    .colab-df-convert:hover {\n",
              "      background-color: #E2EBFA;\n",
              "      box-shadow: 0px 1px 2px rgba(60, 64, 67, 0.3), 0px 1px 3px 1px rgba(60, 64, 67, 0.15);\n",
              "      fill: #174EA6;\n",
              "    }\n",
              "\n",
              "    [theme=dark] .colab-df-convert {\n",
              "      background-color: #3B4455;\n",
              "      fill: #D2E3FC;\n",
              "    }\n",
              "\n",
              "    [theme=dark] .colab-df-convert:hover {\n",
              "      background-color: #434B5C;\n",
              "      box-shadow: 0px 1px 3px 1px rgba(0, 0, 0, 0.15);\n",
              "      filter: drop-shadow(0px 1px 2px rgba(0, 0, 0, 0.3));\n",
              "      fill: #FFFFFF;\n",
              "    }\n",
              "  </style>\n",
              "\n",
              "      <script>\n",
              "        const buttonEl =\n",
              "          document.querySelector('#df-2bac0151-383b-4e15-9968-d9da536d07a0 button.colab-df-convert');\n",
              "        buttonEl.style.display =\n",
              "          google.colab.kernel.accessAllowed ? 'block' : 'none';\n",
              "\n",
              "        async function convertToInteractive(key) {\n",
              "          const element = document.querySelector('#df-2bac0151-383b-4e15-9968-d9da536d07a0');\n",
              "          const dataTable =\n",
              "            await google.colab.kernel.invokeFunction('convertToInteractive',\n",
              "                                                     [key], {});\n",
              "          if (!dataTable) return;\n",
              "\n",
              "          const docLinkHtml = 'Like what you see? Visit the ' +\n",
              "            '<a target=\"_blank\" href=https://colab.research.google.com/notebooks/data_table.ipynb>data table notebook</a>'\n",
              "            + ' to learn more about interactive tables.';\n",
              "          element.innerHTML = '';\n",
              "          dataTable['output_type'] = 'display_data';\n",
              "          await google.colab.output.renderOutput(dataTable, element);\n",
              "          const docLink = document.createElement('div');\n",
              "          docLink.innerHTML = docLinkHtml;\n",
              "          element.appendChild(docLink);\n",
              "        }\n",
              "      </script>\n",
              "    </div>\n",
              "  </div>\n",
              "  "
            ]
          },
          "metadata": {},
          "execution_count": 28
        }
      ]
    },
    {
      "cell_type": "markdown",
      "source": [
        "## Referências Principais\n",
        "\n",
        "[1] SØRENSEN, Øystein; FRIGESSI, Arnoldo; THORESEN, Magne. Measurement error in LASSO: Impact and likelihood bias correction. Statistica sinica, p. 809-829, 2015.\n",
        "\n",
        "[2] FRIEDMAN, Jerome; HASTIE, Trevor; TIBSHIRANI, Rob. Regularization paths for generalized linear models via coordinate descent. Journal of statistical software, v. 33, n. 1, p. 1, 2010. Disponível em: <https://www.jstatsoft.org/article/view/v033i01/v33i01.pdf>\n",
        "\n",
        "[3] LOH, Po-Ling; WAINWRIGHT, Martin J. High-dimensional regression with noisy and missing data: Provable guarantees with non-convexity. Advances in neural information processing systems, v. 24, 2011.\n",
        "\n",
        "[4] Gradiente Descentende. Método do Gradiente Descendente. Disponível em: <https://ml-cheatsheet.readthedocs.io/en/latest/gradient_descent.html>\n",
        "\n"
      ],
      "metadata": {
        "id": "yNcP_G002YWD"
      }
    }
  ]
}